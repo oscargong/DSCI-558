{
 "cells": [
  {
   "cell_type": "code",
   "execution_count": 169,
   "metadata": {},
   "outputs": [],
   "source": [
    "import requests,re\n",
    "from bs4 import BeautifulSoup"
   ]
  },
  {
   "cell_type": "code",
   "execution_count": 49,
   "metadata": {},
   "outputs": [],
   "source": [
    "r = requests.get('https://www.imdb.com/title/tt0460649/')\n",
    "\n",
    "soup = BeautifulSoup(r.text,'html.parser')"
   ]
  },
  {
   "cell_type": "code",
   "execution_count": 92,
   "metadata": {},
   "outputs": [
    {
     "data": {
      "text/plain": [
       "'English'"
      ]
     },
     "execution_count": 92,
     "metadata": {},
     "output_type": "execute_result"
    }
   ],
   "source": [
    "detail_div_tag = soup.find('div',id='titleDetails')\n",
    "\n",
    "detail_div_tag.select_one('div:nth-child(5)').select('a')\n",
    "\n",
    "detail_div_tag.select_one('div:nth-child(5)').select('a')[0].text\n"
   ]
  },
  {
   "cell_type": "code",
   "execution_count": 256,
   "metadata": {},
   "outputs": [],
   "source": [
    "r = requests.get('https://www.imdb.com/title/tt0108778/?ref_=adv_li_i')\n",
    "\n",
    "soup = BeautifulSoup(r.text,'html.parser')"
   ]
  },
  {
   "cell_type": "code",
   "execution_count": 257,
   "metadata": {},
   "outputs": [],
   "source": [
    "detail_div_tag = soup.find('div',id='titleDetails')"
   ]
  },
  {
   "cell_type": "code",
   "execution_count": 258,
   "metadata": {},
   "outputs": [
    {
     "data": {
      "text/plain": [
       "'$89,007'"
      ]
     },
     "execution_count": 258,
     "metadata": {},
     "output_type": "execute_result"
    }
   ],
   "source": [
    "money_pattern = re.compile(r'[\\$\\d,]+')\n",
    "gross = ''\n",
    "for sub_item in detail_div_tag.select('div'):\n",
    "    if \"Worldwide Gross\" in sub_item.text:\n",
    "        gross = re.findall(money_pattern, sub_item.text)[0]\n",
    "        break\n",
    "gross"
   ]
  },
  {
   "cell_type": "code",
   "execution_count": 161,
   "metadata": {},
   "outputs": [],
   "source": [
    "for sub_item in detail_div_tag.select('div'):\n",
    "    if \"Language\" in sub_item.find('h4').text:\n",
    "        language_list = [language.text for language in sub_item.find_all('a')]  \n",
    "        break"
   ]
  },
  {
   "cell_type": "code",
   "execution_count": 185,
   "metadata": {},
   "outputs": [
    {
     "name": "stdout",
     "output_type": "stream",
     "text": [
      "17 February 1989\n"
     ]
    }
   ],
   "source": [
    "date_pattern = re.compile(r'\\d+\\ \\w+\\ \\d{4}')\n",
    "for sub_item in detail_div_tag.select('div'):\n",
    "    if \"Release Date\" in sub_item.find('h4').text:\n",
    "        print(re.findall(date_pattern,sub_item.text)[0])\n",
    "        break"
   ]
  },
  {
   "cell_type": "code",
   "execution_count": 251,
   "metadata": {},
   "outputs": [
    {
     "name": "stdout",
     "output_type": "stream",
     "text": [
      "90 min\n"
     ]
    }
   ],
   "source": [
    "for sub_item in detail_div_tag.select('div'):\n",
    "    if \"Runtime\" in sub_item.text:\n",
    "        print(sub_item.select('time')[0].text)"
   ]
  },
  {
   "cell_type": "code",
   "execution_count": 275,
   "metadata": {},
   "outputs": [],
   "source": [
    "import ujson\n",
    "input_file = '/Users/oscar/Dropbox/1) Schoolwork/DSCI 558 Building Knowledge Graphs/Homework 01/archvie_comedy.jl'\n",
    "\n",
    "f = open(jl_file)\n",
    "\n",
    "with open(input_file, \"r\") as f:\n",
    "    a = [ujson.loads(s) for s in f if s != \"\\n\"]"
   ]
  },
  {
   "cell_type": "code",
   "execution_count": 277,
   "metadata": {},
   "outputs": [],
   "source": [
    "udid_list = [item['id'] for item in a]"
   ]
  },
  {
   "cell_type": "code",
   "execution_count": 290,
   "metadata": {},
   "outputs": [
    {
     "data": {
      "text/plain": [
       "['19 September 2005']"
      ]
     },
     "execution_count": 290,
     "metadata": {},
     "output_type": "execute_result"
    }
   ],
   "source": [
    "a_date = \"e Date: 19 September 2005 (USA) See more » \"\n",
    "date_pattern = re.compile(r'\\d+\\ \\w+\\ \\d{4}|\\d{4}')\n",
    "\n",
    "re.findall(date_pattern,a_date)"
   ]
  },
  {
   "cell_type": "code",
   "execution_count": 291,
   "metadata": {},
   "outputs": [
    {
     "data": {
      "text/plain": [
       "['4,000,000']"
      ]
     },
     "execution_count": 291,
     "metadata": {},
     "output_type": "execute_result"
    }
   ],
   "source": [
    "money_pattern = re.compile(r'[\\$\\d,]+')\n",
    "\n",
    "a_money = \"GBP4,000,000\"\n",
    "\n",
    "re.findall(money_pattern,a_money)"
   ]
  },
  {
   "cell_type": "markdown",
   "metadata": {},
   "source": [
    "# cast"
   ]
  },
  {
   "cell_type": "code",
   "execution_count": 78,
   "metadata": {},
   "outputs": [],
   "source": [
    "import requests,re\n",
    "from bs4 import BeautifulSoup\n",
    "\n",
    "from bs4.element import Tag\n",
    "\n",
    "r = requests.get('https://www.imdb.com/name/nm0717709/bio')\n",
    "soup = BeautifulSoup(r.text, 'html.parser')\n"
   ]
  },
  {
   "cell_type": "code",
   "execution_count": 44,
   "metadata": {},
   "outputs": [],
   "source": [
    "overviewtable_tag = soup.select('#overviewTable')[0]\n",
    "\n",
    "for sub_item in overviewtable_tag.children:\n",
    "    if isinstance(sub_item,Tag):\n",
    "        if \"Born\" in sub_item.text:\n",
    "            born_tag = sub_item\n",
    "        if \"Died\" in sub_item.text:\n",
    "            died_tag = sub_item"
   ]
  },
  {
   "cell_type": "code",
   "execution_count": 32,
   "metadata": {},
   "outputs": [],
   "source": [
    "birth_data_list = [tag.text for tag in born_tag.select('time')[0].select('a')]\n",
    "date_of_birth = ','.join(birth_data_list)"
   ]
  },
  {
   "cell_type": "code",
   "execution_count": 42,
   "metadata": {},
   "outputs": [
    {
     "name": "stdout",
     "output_type": "stream",
     "text": [
      "Anderson, South Carolina, USA\n"
     ]
    }
   ],
   "source": [
    "for born_subitem in born_tag.find_all(\"a\"):\n",
    "    if \"place\" in str(born_subitem):\n",
    "        place_of_birth = born_subitem.text"
   ]
  },
  {
   "cell_type": "code",
   "execution_count": 351,
   "metadata": {},
   "outputs": [
    {
     "data": {
      "text/plain": [
       "True"
      ]
     },
     "execution_count": 351,
     "metadata": {},
     "output_type": "execute_result"
    }
   ],
   "source": [
    "from bs4.element import Tag\n",
    "isinstance(overviewtable_tag.contents[1],Tag)"
   ]
  },
  {
   "cell_type": "code",
   "execution_count": 50,
   "metadata": {},
   "outputs": [
    {
     "data": {
      "text/plain": [
       "['August 28', '2020']"
      ]
     },
     "execution_count": 50,
     "metadata": {},
     "output_type": "execute_result"
    }
   ],
   "source": [
    "death_date_list = [tag.text for tag in died_tag.select('time')[0].select('a')]\n",
    "date_of_death = ','.join(death_date_list)"
   ]
  },
  {
   "cell_type": "code",
   "execution_count": 59,
   "metadata": {},
   "outputs": [],
   "source": [
    "for died_subitem in died_tag.find_all(\"a\"):\n",
    "    if \"place\" in str(died_subitem):\n",
    "        place_of_death = died_subitem.text"
   ]
  },
  {
   "cell_type": "code",
   "execution_count": 110,
   "metadata": {},
   "outputs": [
    {
     "name": "stdout",
     "output_type": "stream",
     "text": [
      "hadn\\'t\n"
     ]
    }
   ],
   "source": [
    "s = 'Jessica Kelly Siobhán Reilly '\n",
    "ss = 'Jessica Kelly Siobh\\u00e1n Reilly'\n",
    "\n",
    "d = \"hadn\\\\'t\".\n",
    "print(d)"
   ]
  },
  {
   "cell_type": "code",
   "execution_count": 112,
   "metadata": {},
   "outputs": [
    {
     "data": {
      "text/plain": [
       "'Jessica Kelly Siobhán Reilly (born 18 July 1977) is an English actress. Her performance in After Miss Julie at the Donmar Warehouse made her a star of the London stage and earned her a nomination for a Laurence Olivier Award for Best Actress of 2003. Reilly was born and brought up in Chessington, Surrey, England, the daughter of a hospital receptionist mother, and Jack Reilly, a police officer. She attended Tolworth Girls\\' School in Kingston, where she studied drama for GCSE. Her grandparents are Irish.Reilly wrote to the producers of the television drama Prime Suspect to ask for work, and six months later she auditioned for a role in an episode of Prime Suspect 4: Inner Circle, which was broadcast on ITV on 7 May 1995. Six years later, she again appeared alongside Helen Mirren in the film Last Orders.Her first professional role was followed by a series of parts on the English stage. She worked with Terry Johnson in four productions: Elton John\\'s Glasses (1997), The London Cuckolds (1998), The Graduate (2000) and Piano/Forte (2006). Johnson wrote Piano/Forte for her and said, \"Kelly is possibly the most natural, dyed-in-the-wool, deep-in-the-bone actress I\\'ve ever worked with.\" Reilly has stated that she learned the most as an actor from Karel Reisz, who directed her in The Yalta Game in Dublin in 2001. She said, \"He was my masterclass. There is no way I would have been able to do Miss Julie if I hadn\\'t done that play.\"By 2000, Reilly felt she was being typecast in comedy roles, and actively sought out a role as the young Amy in Last Orders, directed by Fred Schepisi. This was followed by a role in the Royal Court\\'s 2001 rerun of Sarah Kane\\'s Blasted. The Times called her \"theatrical Viagra\". In 2002, Reilly starred alongside Audrey Tautou and Romain Duris as Wendy, an English Erasmus student, in the French comedy L\\'Auberge espagnole (The Spanish Apartment). She reprised her role in the 2005 sequel, Les Poupées russes (The Russian Dolls) and the 2013 follow-up, Casse-tête chinois (Chinese Puzzle). Also in 2005, Reilly had roles in such films as Mrs Henderson Presents and Pride & Prejudice.Reilly\\'s first lead role came in 2008 in the horror film Eden Lake and, in 2009, she had a high-profile role on prime-time British television in Above Suspicion. Reilly also appeared in three major films: Sherlock Holmes, Triage, and Me and Orson Welles.In 2011, Reilly reprised her role as Mary Watson in Sherlock Holmes: A Game of Shadows. In 2012, Reilly appeared opposite Sam Rockwell in A Single Shot and had a leading role in Robert Zemeckis\\' Flight opposite Denzel Washington. In 2014, Reilly starred with Greg Kinnear in the film Heaven is for Real and in the John Michael McDonagh film Calvary. The same year Reilly starred in the short-lived ABC series Black Box, as Catherine Black, a famed neuroscientist who explores and solves the mysteries of the brain (the black box) while hiding her own bipolar disorder from the world.In 2015, Reilly starred in the second season of HBO\\'s True Detective as Jordan Semyon, the wife of Vince Vaughn\\'s character Frank Semyon. The same year, Reilly made her Broadway debut opposite Clive Owen and Eve Best in Harold Pinter\\'s play Old Times at the American Airlines Theatre.'"
      ]
     },
     "execution_count": 112,
     "metadata": {},
     "output_type": "execute_result"
    }
   ],
   "source": [
    "a = soup.select(\".soda p\")[0].text.strip()\n",
    "str(a)"
   ]
  }
 ],
 "metadata": {
  "kernelspec": {
   "display_name": "Python 3",
   "language": "python",
   "name": "python3"
  },
  "language_info": {
   "codemirror_mode": {
    "name": "ipython",
    "version": 3
   },
   "file_extension": ".py",
   "mimetype": "text/x-python",
   "name": "python",
   "nbconvert_exporter": "python",
   "pygments_lexer": "ipython3",
   "version": "3.7.6"
  }
 },
 "nbformat": 4,
 "nbformat_minor": 4
}
