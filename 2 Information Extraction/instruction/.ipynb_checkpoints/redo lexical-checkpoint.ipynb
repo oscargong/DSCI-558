{
 "cells": [
  {
   "cell_type": "code",
   "execution_count": 1,
   "metadata": {},
   "outputs": [],
   "source": [
    "import re,sys\n",
    "\n",
    "import spacy\n",
    "from spacy.matcher import Matcher\n",
    "from spacy.tokens import Token\n",
    "from spacy import displacy\n",
    "\n",
    "nlp = spacy.load('en_core_web_md')"
   ]
  },
  {
   "cell_type": "markdown",
   "metadata": {},
   "source": [
    "## spouse"
   ]
  },
  {
   "cell_type": "code",
   "execution_count": 8,
   "metadata": {},
   "outputs": [
    {
     "name": "stdout",
     "output_type": "stream",
     "text": [
      "['Lori Anne Allison', 'Amber Heard in']\n"
     ]
    }
   ],
   "source": [
    "spouse_pattern1 = r\" married.*?([A-Z]\\w+ *[A-Z]*\\w* *[A-Z]*\\w*)\"\n",
    "\n",
    "text = \"\"\"\n",
    "Off-screen, Depp has dated several female celebrities, and has been engaged to Sherilyn Fenn, Jennifer Grey, Winona Ryder and Kate Moss. He was married to Lori Anne Allison in 1983, but divorced her in 1985. Depp has two children with French singer/actress Vanessa Paradis: Lily-Rose Melody, born in 1999 and Jack, born in 2002. He married actress/producer Amber Heard in 2015.\n",
    "\"\"\"\n",
    "spouse_result = re.findall(spouse_pattern1,text)\n",
    "print(spouse_result)"
   ]
  },
  {
   "cell_type": "code",
   "execution_count": 16,
   "metadata": {},
   "outputs": [
    {
     "data": {
      "text/plain": [
       "['Lori Anne Allison', 'Amber Heard']"
      ]
     },
     "execution_count": 16,
     "metadata": {},
     "output_type": "execute_result"
    }
   ],
   "source": [
    "def spouse_postprocess(spouse_result):\n",
    "    export = []\n",
    "    for item in spouse_result:\n",
    "        spouse = item.strip()\n",
    "        if 'in' in spouse:\n",
    "            if spouse[-2:] == 'in':\n",
    "                export.append(spouse[:-2].strip())\n",
    "        else:\n",
    "            export.append(spouse)\n",
    "    return export\n",
    "spouse_postprocess(spouse_result)            "
   ]
  },
  {
   "cell_type": "code",
   "execution_count": 14,
   "metadata": {},
   "outputs": [
    {
     "data": {
      "text/plain": [
       "'123'"
      ]
     },
     "execution_count": 14,
     "metadata": {},
     "output_type": "execute_result"
    }
   ],
   "source": [
    "'12345'[:-2]"
   ]
  },
  {
   "cell_type": "markdown",
   "metadata": {},
   "source": [
    "## debut\n",
    "\n",
    "思路：\n",
    "- 找到所有电影名：`XXX XX(19XX)`\n",
    "- 找到日期最早的那个\n",
    "\n",
    "debut 也有一个专有的 pattern, 与电影名取交集\n",
    "\n",
    "### 电影名："
   ]
  },
  {
   "cell_type": "code",
   "execution_count": 47,
   "metadata": {},
   "outputs": [
    {
     "name": "stdout",
     "output_type": "stream",
     "text": [
      "<re.Match object; span=(88, 122), match='Fred Abberline in From Hell (2001)'>\n",
      "<re.Match object; span=(242, 275), match='Once Upon a Time in Mexico (2003)'>\n",
      "<re.Match object; span=(368, 403), match='The Curse of the Black Pearl (2003)'>\n",
      "<re.Match object; span=(697, 717), match='Secret Window (2004)'>\n",
      "<re.Match object; span=(784, 808), match='Finding Neverland (2004)'>\n",
      "<re.Match object; span=(884, 904), match='The Libertine (2004)'>\n",
      "<re.Match object; span=(988, 1028), match='Charlie and the Chocolate Factory (2005)'>\n",
      "<re.Match object; span=(1043, 1069), match='Alice in Wonderland (2010)'>\n",
      "<re.Match object; span=(1074, 1093), match='Dark Shadows (2012)'>\n"
     ]
    }
   ],
   "source": [
    "film_pattern = r\"([A-Z][\\w' ]+)+\\(\\d{4}\\)\"\n",
    "text = \"\"\"\n",
    "Depp has played many characters in his career, including another fact-based one, Insp. Fred Abberline in From Hell (2001). He stole the show from screen greats such as Antonio Banderas in the finale to Robert Rodriguez's \"mariachi\" trilogy, Once Upon a Time in Mexico (2003). In that same year he starred in the marvelous family blockbuster Pirates of the Caribbean: The Curse of the Black Pearl (2003), playing a character that only the likes of Depp could pull off: the charming, conniving and roguish Capt. Jack Sparrow. The film's enormous success has opened several doors for his career and included an Oscar nomination. He appeared as the central character in the Stephen King-based movie, Secret Window (2004); as the kind-hearted novelist James Barrie in the factually-based Finding Neverland (2004), where he co-starred with Kate Winslet; and Rochester in the British film, The Libertine (2004). Depp collaborated again with Burton in a screen adaptation of Roald Dahl's novel, Charlie and the Chocolate Factory (2005), and later in Alice in Wonderland (2010) and Dark Shadows (2012).\n",
    "\n",
    "Off-screen, Depp has dated several female celebrities, and has been engaged to Sherilyn Fenn, Jennifer Grey, Winona Ryder and Kate Moss. He was married to Lori Anne Allison in 1983, but divorced her in 1985. Depp has two children with French singer/actress Vanessa Paradis: Lily-Rose Melody, born in 1999 and Jack, born in 2002. He married actress/producer Amber Heard in 2015.\n",
    "\"\"\"\n",
    "\n",
    "for match in re.finditer(film_pattern,text):\n",
    "    print(match)"
   ]
  },
  {
   "cell_type": "code",
   "execution_count": 36,
   "metadata": {},
   "outputs": [
    {
     "name": "stdout",
     "output_type": "stream",
     "text": [
      " A Nightmare on Elm Street (1984)\n"
     ]
    }
   ],
   "source": [
    "debut_pattern = r\"debut.*?([\\w '-]+\\(\\d{4}\\))\"\n",
    "\n",
    "text = \"\"\"\n",
    " disguise, when he met up with actor Nicolas Cage, who advised him to turn to acting, which culminated in Depp's film debut in the low-budget horror film, A Nightmare on Elm Street (1984), where he pl\n",
    "\"\"\"\n",
    "debut_result = re.search(debut_pattern,text)\n",
    "if debut_result:\n",
    "    print(debut_result.group(1))\n",
    "else:\n",
    "    print(\"debut not found\")"
   ]
  },
  {
   "cell_type": "code",
   "execution_count": 34,
   "metadata": {},
   "outputs": [
    {
     "data": {
      "text/plain": [
       "['debut in the low-budget horror film, A Nightmare on Elm Street (1984)']"
      ]
     },
     "execution_count": 34,
     "metadata": {},
     "output_type": "execute_result"
    }
   ],
   "source": [
    "re.findall(debut_pattern,text)"
   ]
  }
 ],
 "metadata": {
  "kernelspec": {
   "display_name": "Python 3",
   "language": "python",
   "name": "python3"
  },
  "language_info": {
   "codemirror_mode": {
    "name": "ipython",
    "version": 3
   },
   "file_extension": ".py",
   "mimetype": "text/x-python",
   "name": "python",
   "nbconvert_exporter": "python",
   "pygments_lexer": "ipython3",
   "version": "3.7.6"
  }
 },
 "nbformat": 4,
 "nbformat_minor": 4
}
