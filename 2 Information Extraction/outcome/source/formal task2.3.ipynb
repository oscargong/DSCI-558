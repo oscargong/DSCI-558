{
 "cells": [
  {
   "cell_type": "code",
   "execution_count": 1,
   "metadata": {},
   "outputs": [],
   "source": [
    "import sys,re\n",
    "\n",
    "import spacy\n",
    "from spacy.matcher import Matcher\n",
    "from spacy.tokens import Token\n",
    "from spacy import displacy\n",
    "\n",
    "nlp = spacy.load('en_core_web_md')"
   ]
  },
  {
   "cell_type": "markdown",
   "metadata": {},
   "source": [
    "## Parent\n",
    "### Parent pattern 1\n",
    "`father,{father_name} * mother,{mother_name}`\n",
    "\n",
    "Ryan Reynolds https://www.imdb.com/name/nm0005351/bio?ref_=nm_ov_bio_sm\n",
    "> **His father**, James Chester Reynolds, was a food wholesaler, and **his mother**, Tamara Lee \"Tammy\" (Stewart), worked as a retail-store saleswoman. He has Irish and Scottish ancestry. Between 1991-93, Ryan appeared in Fifteen (1990), a Nickleodeon series taped in "
   ]
  },
  {
   "cell_type": "code",
   "execution_count": 9,
   "metadata": {},
   "outputs": [
    {
     "data": {
      "text/html": [
       "<div class=\"entities\" style=\"line-height: 2.5; direction: ltr\">His father, \n",
       "<mark class=\"entity\" style=\"background: #aa9cfc; padding: 0.45em 0.6em; margin: 0 0.25em; line-height: 1; border-radius: 0.35em; box-decoration-break: clone; -webkit-box-decoration-break: clone\">\n",
       "    James Chester Reynolds\n",
       "    <span style=\"font-size: 0.8em; font-weight: bold; line-height: 1; border-radius: 0.35em; text-transform: uppercase; vertical-align: middle; margin-left: 0.5rem\">PERSON</span>\n",
       "</mark>\n",
       ", was a food wholesaler, and his mother, \n",
       "<mark class=\"entity\" style=\"background: #aa9cfc; padding: 0.45em 0.6em; margin: 0 0.25em; line-height: 1; border-radius: 0.35em; box-decoration-break: clone; -webkit-box-decoration-break: clone\">\n",
       "    Tamara Lee &quot;Tammy\n",
       "    <span style=\"font-size: 0.8em; font-weight: bold; line-height: 1; border-radius: 0.35em; text-transform: uppercase; vertical-align: middle; margin-left: 0.5rem\">PERSON</span>\n",
       "</mark>\n",
       "&quot; (\n",
       "<mark class=\"entity\" style=\"background: #aa9cfc; padding: 0.45em 0.6em; margin: 0 0.25em; line-height: 1; border-radius: 0.35em; box-decoration-break: clone; -webkit-box-decoration-break: clone\">\n",
       "    Stewart\n",
       "    <span style=\"font-size: 0.8em; font-weight: bold; line-height: 1; border-radius: 0.35em; text-transform: uppercase; vertical-align: middle; margin-left: 0.5rem\">PERSON</span>\n",
       "</mark>\n",
       "), worked as a retail-store saleswoman. </div>"
      ],
      "text/plain": [
       "<IPython.core.display.HTML object>"
      ]
     },
     "metadata": {},
     "output_type": "display_data"
    }
   ],
   "source": [
    "displacy.render(nlp('His father, James Chester Reynolds, was a food wholesaler, and his mother, Tamara Lee \"Tammy\" (Stewart), worked as a retail-store saleswoman. '), style=\"ent\")"
   ]
  },
  {
   "cell_type": "code",
   "execution_count": 8,
   "metadata": {},
   "outputs": [
    {
     "name": "stdout",
     "output_type": "stream",
     "text": [
      "17071697760115891398 father 2 5 father, James\n",
      "17071697760115891398 father 2 6 father, James Chester\n",
      "17071697760115891398 father 2 7 father, James Chester Reynolds\n"
     ]
    }
   ],
   "source": [
    "parent_ryan = \"\"\"\n",
    "His father, James Chester Reynolds, was a food wholesaler, and his mother, Tamara Lee \"Tammy\" (Stewart), worked as a retail-store saleswoman. He has Irish and Scottish ancestry. Between 1991-93, Ryan appeared in Fifteen (1990), a Nickleodeon series taped in\n",
    "\"\"\"\n",
    "parent_ryan_doc = nlp(parent_ryan)\n",
    "\n",
    "father_pattern = [{'LEMMA': 'father'},\n",
    "           {'IS_PUNCT': True},\n",
    "           {'ENT_TYPE': 'PERSON', 'OP': '+'}]    \n",
    "\n",
    "father_matcher = Matcher(nlp.vocab) \n",
    "father_matcher.add(\"father\", None, father_pattern) \n",
    "\n",
    "father_matches = father_matcher(parent_ryan_doc)\n",
    "\n",
    "for match_id, start, end in father_matches:\n",
    "    string_id = nlp.vocab.strings[match_id]  \n",
    "    span = parent_ryan_doc[start:end]   \n",
    "    print(match_id, string_id, start, end, span.text)"
   ]
  },
  {
   "cell_type": "code",
   "execution_count": 17,
   "metadata": {},
   "outputs": [
    {
     "name": "stdout",
     "output_type": "stream",
     "text": [
      "7963322251145911254 mother 15 18 mother, Tamara\n",
      "7963322251145911254 mother 15 19 mother, Tamara Lee\n",
      "7963322251145911254 mother 15 20 mother, Tamara Lee \"\n",
      "7963322251145911254 mother 15 21 mother, Tamara Lee \"Tammy\n"
     ]
    }
   ],
   "source": [
    "mather_pattern = [{'LEMMA': 'mother'},\n",
    "           {'IS_PUNCT': True},\n",
    "           {'ENT_TYPE': 'PERSON', 'OP': '+'}]    \n",
    "\n",
    "mother_matcher = Matcher(nlp.vocab) \n",
    "mother_matcher.add(\"mother\", None, mather_pattern) \n",
    "\n",
    "mother_matches = mother_matcher(parent_ryan_doc)\n",
    "\n",
    "for match_id, start, end in mother_matches:\n",
    "    string_id = nlp.vocab.strings[match_id]  \n",
    "    span = parent_ryan_doc[start:end]   \n",
    "    print(match_id, string_id, start, end, span.text)"
   ]
  },
  {
   "cell_type": "markdown",
   "metadata": {},
   "source": [
    "need second step to extract entity:Person"
   ]
  },
  {
   "cell_type": "code",
   "execution_count": 5,
   "metadata": {},
   "outputs": [
    {
     "data": {
      "text/html": [
       "<div class=\"entities\" style=\"line-height: 2.5; direction: ltr\">mother, \n",
       "<mark class=\"entity\" style=\"background: #aa9cfc; padding: 0.45em 0.6em; margin: 0 0.25em; line-height: 1; border-radius: 0.35em; box-decoration-break: clone; -webkit-box-decoration-break: clone\">\n",
       "    Tamara Lee &quot;Tammy\n",
       "    <span style=\"font-size: 0.8em; font-weight: bold; line-height: 1; border-radius: 0.35em; text-transform: uppercase; vertical-align: middle; margin-left: 0.5rem\">PERSON</span>\n",
       "</mark>\n",
       "</div>"
      ],
      "text/plain": [
       "<IPython.core.display.HTML object>"
      ]
     },
     "metadata": {},
     "output_type": "display_data"
    }
   ],
   "source": [
    "displacy.render(nlp('mother, Tamara Lee \"Tammy'), style=\"ent\")"
   ]
  },
  {
   "cell_type": "markdown",
   "metadata": {},
   "source": [
    "\n",
    "### Parent pattern 2\n",
    "\n",
    "`{person_name} * born * to {parent_name} * and {parent_name}`\n",
    "\n",
    "https://www.imdb.com/name/nm1500155/bio?ref_=nm_ov_bio_sm\n",
    ">Robert Douglas Thomas Pattinson was born May 13, 1986 in London, England, to Richard Pattinson, a car dealer importing vintage cars, and Clare Pattinson (née Charlton), who worked as a booker at a model agency. He grew up in Barnes, southwest London"
   ]
  },
  {
   "cell_type": "code",
   "execution_count": 58,
   "metadata": {},
   "outputs": [
    {
     "data": {
      "text/html": [
       "<div class=\"entities\" style=\"line-height: 2.5; direction: ltr\">\n",
       "<mark class=\"entity\" style=\"background: #aa9cfc; padding: 0.45em 0.6em; margin: 0 0.25em; line-height: 1; border-radius: 0.35em; box-decoration-break: clone; -webkit-box-decoration-break: clone\">\n",
       "    Robert Douglas Thomas Pattinson\n",
       "    <span style=\"font-size: 0.8em; font-weight: bold; line-height: 1; border-radius: 0.35em; text-transform: uppercase; vertical-align: middle; margin-left: 0.5rem\">PERSON</span>\n",
       "</mark>\n",
       " was born \n",
       "<mark class=\"entity\" style=\"background: #bfe1d9; padding: 0.45em 0.6em; margin: 0 0.25em; line-height: 1; border-radius: 0.35em; box-decoration-break: clone; -webkit-box-decoration-break: clone\">\n",
       "    May 13, 1986\n",
       "    <span style=\"font-size: 0.8em; font-weight: bold; line-height: 1; border-radius: 0.35em; text-transform: uppercase; vertical-align: middle; margin-left: 0.5rem\">DATE</span>\n",
       "</mark>\n",
       " in \n",
       "<mark class=\"entity\" style=\"background: #feca74; padding: 0.45em 0.6em; margin: 0 0.25em; line-height: 1; border-radius: 0.35em; box-decoration-break: clone; -webkit-box-decoration-break: clone\">\n",
       "    London\n",
       "    <span style=\"font-size: 0.8em; font-weight: bold; line-height: 1; border-radius: 0.35em; text-transform: uppercase; vertical-align: middle; margin-left: 0.5rem\">GPE</span>\n",
       "</mark>\n",
       ", \n",
       "<mark class=\"entity\" style=\"background: #feca74; padding: 0.45em 0.6em; margin: 0 0.25em; line-height: 1; border-radius: 0.35em; box-decoration-break: clone; -webkit-box-decoration-break: clone\">\n",
       "    England\n",
       "    <span style=\"font-size: 0.8em; font-weight: bold; line-height: 1; border-radius: 0.35em; text-transform: uppercase; vertical-align: middle; margin-left: 0.5rem\">GPE</span>\n",
       "</mark>\n",
       ", to \n",
       "<mark class=\"entity\" style=\"background: #aa9cfc; padding: 0.45em 0.6em; margin: 0 0.25em; line-height: 1; border-radius: 0.35em; box-decoration-break: clone; -webkit-box-decoration-break: clone\">\n",
       "    Richard Pattinson\n",
       "    <span style=\"font-size: 0.8em; font-weight: bold; line-height: 1; border-radius: 0.35em; text-transform: uppercase; vertical-align: middle; margin-left: 0.5rem\">PERSON</span>\n",
       "</mark>\n",
       ", a car dealer importing vintage cars, and \n",
       "<mark class=\"entity\" style=\"background: #aa9cfc; padding: 0.45em 0.6em; margin: 0 0.25em; line-height: 1; border-radius: 0.35em; box-decoration-break: clone; -webkit-box-decoration-break: clone\">\n",
       "    Clare Pattinson\n",
       "    <span style=\"font-size: 0.8em; font-weight: bold; line-height: 1; border-radius: 0.35em; text-transform: uppercase; vertical-align: middle; margin-left: 0.5rem\">PERSON</span>\n",
       "</mark>\n",
       " (née \n",
       "<mark class=\"entity\" style=\"background: #aa9cfc; padding: 0.45em 0.6em; margin: 0 0.25em; line-height: 1; border-radius: 0.35em; box-decoration-break: clone; -webkit-box-decoration-break: clone\">\n",
       "    Charlton\n",
       "    <span style=\"font-size: 0.8em; font-weight: bold; line-height: 1; border-radius: 0.35em; text-transform: uppercase; vertical-align: middle; margin-left: 0.5rem\">PERSON</span>\n",
       "</mark>\n",
       "), who worked as a booker at a model agency. </div>"
      ],
      "text/plain": [
       "<IPython.core.display.HTML object>"
      ]
     },
     "metadata": {},
     "output_type": "display_data"
    }
   ],
   "source": [
    "displacy.render(nlp('Robert Douglas Thomas Pattinson was born May 13, 1986 in London, England, to Richard Pattinson, a car dealer importing vintage cars, and Clare Pattinson (née Charlton), who worked as a booker at a model agency. '), style=\"ent\")\n"
   ]
  },
  {
   "cell_type": "markdown",
   "metadata": {},
   "source": [
    "**First use my regex:**"
   ]
  },
  {
   "cell_type": "code",
   "execution_count": 135,
   "metadata": {},
   "outputs": [
    {
     "data": {
      "text/plain": [
       "[(37, 168)]"
      ]
     },
     "execution_count": 135,
     "metadata": {},
     "output_type": "execute_result"
    }
   ],
   "source": [
    "parent_robert = \"\"\"\n",
    "Robert Douglas Thomas Pattinson was born May 13, 1986 in London, England, to Richard Pattinson, a car dealer importing vintage cars, and Clare Pattinson (née Charlton), who worked as a booker at a model agency. He grew up in Barnes, southwest London with two older sisters. Robert discovered his love for music long before acting and started lear\n",
    "\"\"\"\n",
    "parent_to_pattern = r\"born.+?to ([A-Z][\\w \\(\\)]+)\\b.+?and ([A-Z][\\w \\(\\)]+)\"\n",
    "\n",
    "# parent_to_re_result = re.search(debut_pattern,text)\n",
    "\n",
    "case2_re_matches = [(match.start(),match.end()) for match in re.finditer(parent_to_pattern,parent_robert)]\n",
    "case2_re_matches"
   ]
  },
  {
   "cell_type": "code",
   "execution_count": 137,
   "metadata": {},
   "outputs": [
    {
     "data": {
      "text/plain": [
       "[(32, 173)]"
      ]
     },
     "execution_count": 137,
     "metadata": {},
     "output_type": "execute_result"
    }
   ],
   "source": [
    "# expand a little bit\n",
    "\n",
    "a = [(start-5,end+5) if start-5>=0 else (0,end+5) for start,end in case2_re_matches]\n",
    "a"
   ]
  },
  {
   "cell_type": "code",
   "execution_count": 140,
   "metadata": {},
   "outputs": [
    {
     "data": {
      "text/plain": [
       "' was born May 13, 1986 in London, England, to Richard Pattinson, a car dealer importing vintage cars, and Clare Pattinson (née Charlton), who'"
      ]
     },
     "execution_count": 140,
     "metadata": {},
     "output_type": "execute_result"
    }
   ],
   "source": [
    "parent_robert[32:173]"
   ]
  },
  {
   "cell_type": "code",
   "execution_count": 145,
   "metadata": {},
   "outputs": [
    {
     "name": "stdout",
     "output_type": "stream",
     "text": [
      "Charlton), who worked as a booker at a model agency. He grew up in Barnes, southwest London with two older sisters. Robert discovered his love for music long before acting and started lear\n",
      "\n"
     ]
    }
   ],
   "source": [
    "new = \"\"\"\n",
    "Robert Douglas Thomas Pattinson was born May 13, 1986 in London, England, to Richard Pattinson, a car dealer importing vintage cars, and Clare Pattinson (née Charlton), who worked as a booker at a model agency. He grew up in Barnes, southwest London with two older sisters. Robert discovered his love for music long before acting and started lear\n",
    "\"\"\"\n",
    "# testcase = parent_syntactic(text)\n",
    "testcase = nlp(new)[32:173]\n",
    "print(testcase)"
   ]
  },
  {
   "cell_type": "code",
   "execution_count": 10,
   "metadata": {},
   "outputs": [
    {
     "ename": "NameError",
     "evalue": "name 'parent_robert' is not defined",
     "output_type": "error",
     "traceback": [
      "\u001b[0;31m---------------------------------------------------------------------------\u001b[0m",
      "\u001b[0;31mNameError\u001b[0m                                 Traceback (most recent call last)",
      "\u001b[0;32m<ipython-input-10-8b83e82524d4>\u001b[0m in \u001b[0;36m<module>\u001b[0;34m\u001b[0m\n\u001b[1;32m     13\u001b[0m     \u001b[0;32mreturn\u001b[0m \u001b[0mexport\u001b[0m\u001b[0;34m\u001b[0m\u001b[0;34m\u001b[0m\u001b[0m\n\u001b[1;32m     14\u001b[0m \u001b[0;34m\u001b[0m\u001b[0m\n\u001b[0;32m---> 15\u001b[0;31m \u001b[0mperson_ent_extract\u001b[0m\u001b[0;34m(\u001b[0m\u001b[0mparent_robert\u001b[0m\u001b[0;34m[\u001b[0m\u001b[0;36m27\u001b[0m\u001b[0;34m:\u001b[0m\u001b[0;36m178\u001b[0m\u001b[0;34m]\u001b[0m\u001b[0;34m)\u001b[0m\u001b[0;34m\u001b[0m\u001b[0;34m\u001b[0m\u001b[0m\n\u001b[0m",
      "\u001b[0;31mNameError\u001b[0m: name 'parent_robert' is not defined"
     ]
    }
   ],
   "source": [
    "# extract Person Entity\n",
    "def person_ent_extract(text):\n",
    "    doc = nlp(text)\n",
    "    matcher = Matcher(nlp.vocab)\n",
    "    person_pattern = [{'ENT_TYPE': 'PERSON', 'OP': '+'}]\n",
    "    matcher.add(\"person_entity\", None, person_pattern)\n",
    "    matches = matcher(doc)\n",
    "    match_list = sorted([doc[s:e].text for _,s,e in matches],key = len)\n",
    "    \n",
    "    l = match_list\n",
    "    # resolve sub string:\n",
    "    export = [j for i,j in enumerate(l) if all(j == k or (j not in k) for k in l[i+1:])]\n",
    "    return export\n",
    "\n",
    "person_ent_extract(parent_robert[27:178])        "
   ]
  },
  {
   "cell_type": "markdown",
   "metadata": {},
   "source": [
    "\n",
    "### Parent pattern 3\n",
    "\n",
    "`son|daughter * of {parent_name} * {parent_name}`\n",
    "\n",
    "https://www.imdb.com/name/nm0000129/bio?ref_=nm_ov_bio_sm\n",
    ">Tom is the only son (among four children) of nomadic parents, Mary Lee (Pfeiffer), a special education teacher, and Thomas Cruise Mapother III, an electrical engineer. His parents were both from Louisville, Kentucky, and he has German, Irish, and English ancestry. Young Tom spent his boyhood always on the move, and by the time he was 14 he had attended 15 different schools in the U.S. and Canada. He finally settled in Glen Ridge, New Jersey with his mother and her new husband. While in high school, Tom wanted to become a priest but pretty soon he developed an interest in acting and abandoned his plans of becoming a priest, dropped out of school, and at age 18 headed for New York and a possible acting career. The next 15 years of his life are the stuff of legends. He made his film debut with a small part in Endless Love (1981) and from the outset exhibited an undeniable box office appeal to both male and female audiences.\n"
   ]
  },
  {
   "cell_type": "code",
   "execution_count": 95,
   "metadata": {},
   "outputs": [
    {
     "data": {
      "text/plain": [
       "['Mary Lee', 'Pfeiffer', 'Thomas Cruise Mapother III']"
      ]
     },
     "execution_count": 95,
     "metadata": {},
     "output_type": "execute_result"
    }
   ],
   "source": [
    "parent_son_pattern = r\"(?: son| daughter).*?of.*?([A-Z][\\w \\(\\)]+).*?([A-Z][\\w \\(\\)]+)\"\n",
    "\n",
    "parent_tom = \"\"\"\n",
    "Tom is the only son (among four children) of nomadic parents, Mary Lee (Pfeiffer), a special education teacher, and Thomas Cruise Mapother III, an electrical engineer. His parents were both from Louisville, Kentucky, and he has German, Irish, and English ancestry. Young Tom spent his boyhood always on the move, and by the time he was 14 he had attended 15 different schools in the U.S. and Canada. He finally settled in Glen Ridge, New Jersey with his mother and her new husba\n",
    "\"\"\"\n",
    "\n",
    "parent_re_matches = []\n",
    "for match in re.finditer(parent_son_pattern,parent_tom):\n",
    "    parent_re_matches.append((match.start(),match.end()))\n",
    "\n",
    "s,e = parent_re_matches[0]\n",
    "\n",
    "person_ent_extract(parent_tom[s:e])        "
   ]
  },
  {
   "cell_type": "code",
   "execution_count": 104,
   "metadata": {},
   "outputs": [
    {
     "name": "stdout",
     "output_type": "stream",
     "text": [
      "0 :\t  son (among four children) of nomadic parents, Mary Lee (Pfeiffer), a special education teacher, and Thomas Cruise Mapother III\n",
      "1 :\t Mary Lee (Pfeiffer)\n",
      "2 :\t Thomas Cruise Mapother III\n"
     ]
    }
   ],
   "source": [
    "m = re.search(parent_son_pattern,parent_tom)\n",
    "for i in [0,1,2]:\n",
    "    print(i,\":\\t\",m.group(i))"
   ]
  },
  {
   "cell_type": "markdown",
   "metadata": {},
   "source": [
    "## spouse\n",
    "\n",
    "### case 1\n",
    "`married|engagement|wife * {spouse_name}`\n",
    "\n",
    "Ryan Reynolds https://www.imdb.com/name/nm0005351/bio?ref_=nm_ov_bio_sm\n",
    "\n",
    ">He has been married to Blake Lively since September 9, 2012. They have two children. He was previously married to Scarlett Johansson.\n",
    "\n",
    "https://www.imdb.com/name/nm0000437/bio?ref_=nm_ov_bio_sm\n",
    ">Harrelson was briefly married to Nancy Simon in the 80s, and later married his former assistant, Laura Louie, with whom he has three daughters.\n",
    "\n",
    ">Cumberbatch's engagement to theatre and opera director Sophie Hunter, whom he has known for 17 years, was announced in the \"Forthcoming Marriages\" section of The Times newspaper on November 5, 2014. On February 14, 2015, the couple married at the 12th century Church of St. Peter and St. Paul on the Isle of Wight followed by a reception at Mottistone Manor. They have two sons, Christopher Carlton (born 2015) and Hal Auden"
   ]
  },
  {
   "cell_type": "code",
   "execution_count": 179,
   "metadata": {},
   "outputs": [
    {
     "name": "stdout",
     "output_type": "stream",
     "text": [
      "16640336794147003635 spouse 3 12 engagement to theatre and opera director Sophie Hunter,\n",
      "16640336794147003635 spouse 3 80 engagement to theatre and opera director Sophie Hunter, whom he has known for 17 years, was announced in the \"Forthcoming Marriages\" section of The Times newspaper on November 5, 2014. On February 14, 2015, the couple married at the 12th century Church of St. Peter and St. Paul on the Isle of Wight followed by a reception at Mottistone Manor. They have two sons, Christopher Carlton (\n",
      "['Wanda Ventham', 'Timothy Carlton Congdon Cumberbatch']\n"
     ]
    }
   ],
   "source": [
    "benedict_text = \"\"\"\n",
    "Cumberbatch's engagement to theatre and opera director Sophie Hunter, whom he has known for 17 years, was announced in the \"Forthcoming Marriages\" section of The Times newspaper on November 5, 2014. On February 14, 2015, the couple married at the 12th century Church of St. Peter and St. Paul on the Isle of Wight followed by a reception at Mottistone Manor. They have two sons, Christopher Carlton (born 2015) and Hal Auden\n",
    "\"\"\"\n",
    "\n",
    "spouse_pattern = [{'LEMMA': 'engagement'},\n",
    "           {'IS_ASCII': True, 'OP': '*'},\n",
    "           {'ENT_TYPE': 'PERSON', 'OP': '+'},\n",
    "                  {'IS_PUNCT': True}]   \n",
    "\n",
    "spouse_matcher = Matcher(nlp.vocab) \n",
    "spouse_matcher.add(\"spouse\", None, spouse_pattern) \n",
    "\n",
    "spouse_matches = spouse_matcher(nlp(benedict_text))\n",
    "\n",
    "for match_id, start, end in spouse_matches:\n",
    "    string_id = nlp.vocab.strings[match_id]  \n",
    "    span = nlp(benedict_text)[start:end]   \n",
    "    print(match_id, string_id, start, end, span.text)\n",
    "\n",
    "matched_text = \"\"\"\n",
    "engagement to theatre and opera director Sophie Hunter, whom he has known for 17 years, was announced in the \"Forthcoming Marriages\" section of The Times newspaper on November 5, 2014. On February 14, 2015, the couple married at the 12th century Church of St. Peter and St. Paul on the Isle of Wight followed by a reception at Mottistone Manor. They have two sons, Christopher Carlton (\n",
    "\"\"\"\n",
    "\n",
    "print(person_ent_extract(' His parents, Wanda Ventham and Timothy Carlton (born Timothy Carlton Congdon Cumberbatch), are'))"
   ]
  },
  {
   "cell_type": "code",
   "execution_count": 176,
   "metadata": {},
   "outputs": [
    {
     "data": {
      "text/plain": [
       "'Sophie Hunter'"
      ]
     },
     "execution_count": 176,
     "metadata": {},
     "output_type": "execute_result"
    }
   ],
   "source": [
    "spouse_re_pattern = r\"(?:married|engagement|wife).*?([A-Z]\\w+ *[A-Z]*\\w* *[A-Z]*\\w*)\"\n",
    "spouse_re_pattern_loose = r\"married.*?([A-Z][\\w \\(\\)]+)\"\n",
    "\n",
    "pouse_re_matches = [match for match in re.finditer(spouse_re_pattern,benedict_text)]\n",
    "pouse_re_matches[0].group(1)"
   ]
  },
  {
   "cell_type": "code",
   "execution_count": 244,
   "metadata": {},
   "outputs": [],
   "source": []
  },
  {
   "cell_type": "code",
   "execution_count": 18,
   "metadata": {},
   "outputs": [
    {
     "name": "stdout",
     "output_type": "stream",
     "text": [
      "his mother, marianne (dalgliesh), a housewife, was also born on jersey, and is of irish, scottish and english ancestry.\n"
     ]
    }
   ],
   "source": [
    "pitt = \"\"\"\n",
    "\"Henry William Dalgliesh Cavill was born on the Bailiwick of Jersey, a British Crown dependency in the Channel Islands. His mother, Marianne (Dalgliesh), a housewife, was also born on Jersey, and is of Irish, Scottish and English ancestry. Henry's father, Colin Richard Cavill, a stockbroker, is of English origin (born in Chester, England). Henry is the second youngest son, with four brothers. He was privately educated at St. Michael's Preparatory School in Saint Saviour, Jersey before attending Stowe School in Buckinghamshire, England.\n",
    "\n",
    "His interest in acting started at an early age with school play renditions of Shakespeare's \"A Midsummer Night's Dream\", and Sonny LaTierri in \"Grease\". He also starred and directed Shakespeare's \"Hamlet\" in the BBC documentary \"40 Minutes\". It was at age 17 when Henry was discovered by casting directors at school who were looking for a young boy to play Albert Mondego in The Count of Monte Cristo (2002). He went on to star in Laguna (2001), appear in BBC's The Inspector Lynley Mysteries (2001), the television film Goodbye, Mr. Chips (2002), and the television series Midsomer Murders (1997).\n",
    "\n",
    "When Henry was 20 years old, he gained starring roles in I Capture the Castle (2003), Hellraiser: Hellworld (2005), Red Riding Hood (2006) and Tristan & Isolde (2006). He also had a minor role in the fantasy-adventure epic Stardust (2007) alongside Sienna Miller and Ben Barnes. During 2007-2010, Henry had a leading role on the television series The Tudors (2007) as Charles Brandon, 1st Duke of Suffolk. The series was a success and was nominated for a Golden Globe Award in 2007 and won an Emmy Award in 2008. Entertainment Weekly named him \"Most Dashing Duke\".\n",
    "\n",
    "He also starred in Blood Creek (2006) and Woody Allen's comedy film Whatever Works (2009). On January 30, 2011, it was announced that Henry Cavill had been cast as the next Superman in Man of Steel (2013), making him the first non-American actor to play Superman. The movie was directed by Zach Snyder, produced by Christopher Nolan, and scripted by David S. Goyer. On November 7, 2011, Henry starred in Tarsem Singh's fantasy-adventure epic Immortals (2011) alongside Mickey Rourke, Freida Pinto and Luke Evans. On September 7, 2012, Henry starred in the action-thriller Cold Light of Day (2003) alongside Bruce Willis and Sigourney Weaver.\n",
    "\n",
    "On June 10, 2013, Man of Steel (2013) kicked off its world premiere in New York City followed by London, Bailiwick of Jersey, Sicily, Madrid, Shanghai, Sydney and Tokyo. The movie became the highest-grossing Superman film to date, and the second-highest-grossing reboot of all time behind The Amazing Spider-Man (2012). Glamour magazine ranked him the #1 \"Sexiest Man\". In August 2014, Henry became the Ambassador for Durrell Wildlife Park and created a website and social media called #CavillConservation to help raise funds and awareness for his love of animals and conservation. On November 3, 2014, it was announced that Cavill, his brother Charlie, and London-based producer Rex Glensy, have formed their own British production company, Promethean Productions.\n",
    "\n",
    "On August 7, 2015, The Man from U.N.C.L.E. (2015) began its premiere tour with a people's premiere at the famous Somerset House in London, followed by its world premiere in New York City, then Toronto, and Rio de Janeiro. Cavill reprised his role as Superman in Batman v Superman: Dawn of Justice (2016) and Justice League (2017).\n",
    "\"\n",
    "\"\"\"\n",
    "\n",
    "text = nlp(pitt)\n",
    "sentences = list(text.sents)\n",
    "\n",
    "pattern1 = [\n",
    "    {\"TEXT\": {\"REGEX\": r'married|marry|engagement|wife|husband'}},\n",
    "    {'IS_ASCII': True, 'OP': '*'},\n",
    "    {'ENT_TYPE': 'PERSON', 'OP': '+'},\n",
    "    {'IS_PUNCT': True}\n",
    "]\n",
    "spouse_matcher1 = Matcher(nlp.vocab)\n",
    "spouse_matcher1.add(\"spouse\", None, pattern1)\n",
    "syntactic_matches = []\n",
    "for sentence in sentences:\n",
    "    sentence_text = sentence.text.lower()\n",
    "    t_nlp = nlp(sentence.text)\n",
    "    if re.search(r'married|marry|engagement|wife|husband',sentence_text):\n",
    "        print(sentence_text)\n",
    "#         syntactic_matches.extend([ t_nlp[s:e].text for _,s,e in spouse_matcher1(t_nlp)])\n",
    "\n",
    "        \n"
   ]
  },
  {
   "cell_type": "code",
   "execution_count": 17,
   "metadata": {},
   "outputs": [
    {
     "data": {
      "text/plain": [
       "[]"
      ]
     },
     "execution_count": 17,
     "metadata": {},
     "output_type": "execute_result"
    }
   ],
   "source": [
    "syntactic_result = []\n",
    "\n",
    "for match in syntactic_matches:\n",
    "    syntactic_result.extend(person_ent_extract(match))\n",
    "syntactic_result"
   ]
  },
  {
   "cell_type": "code",
   "execution_count": null,
   "metadata": {},
   "outputs": [],
   "source": [
    "t = \"Dwayne has a daughter, Simone Garcia Johnson, born in 2001, with his ex-wife Dany Garcia, and daughters, Jasmine, born in 2015, and Tiana Gia, born in 2018, with his wife, singer and songwriter Lauren Hashian.\"\n",
    "re.findall(r\"(?:married|engagement|wife).*?([A-Z]\\w+ *[A-Z]*\\w* *[A-Z]*\\w*)\",t)"
   ]
  },
  {
   "cell_type": "code",
   "execution_count": 217,
   "metadata": {},
   "outputs": [
    {
     "name": "stdout",
     "output_type": "stream",
     "text": [
      "sorted(l) ['abc', 'def', 'abcdef', 'defdef', 'polopolo']\n",
      "\n",
      " 0 abc ['def', 'abcdef', 'defdef', 'polopolo']\n",
      "\n",
      " 1 def ['abcdef', 'defdef', 'polopolo']\n",
      "\n",
      " 2 abcdef ['defdef', 'polopolo']\n",
      "\n",
      " 3 defdef ['polopolo']\n",
      "\n",
      " 4 polopolo []\n",
      "['abcdef', 'defdef', 'polopolo']\n"
     ]
    }
   ],
   "source": [
    "l = ['abc','abcdef','def','defdef','polopolo']\n",
    "\n",
    "l = sorted(l, key = len)\n",
    "\n",
    "print(\"sorted(l)\",l)\n",
    "export = []\n",
    "for index,item in enumerate(l):\n",
    "    print('\\n',index,item,l[index+1:])\n",
    "    judge = []\n",
    "    for sub_item in l[index+1:]:\n",
    "        if item not in sub_item:\n",
    "            judge.append(True)\n",
    "        else:\n",
    "            judge.append(False)\n",
    "    if all(judge):\n",
    "        export.append(item)\n",
    "        \n",
    "\n",
    "print(export)            "
   ]
  },
  {
   "cell_type": "code",
   "execution_count": 221,
   "metadata": {},
   "outputs": [
    {
     "data": {
      "text/html": [
       "<div class=\"entities\" style=\"line-height: 2.5; direction: ltr\"> the son of \n",
       "<mark class=\"entity\" style=\"background: #aa9cfc; padding: 0.45em 0.6em; margin: 0 0.25em; line-height: 1; border-radius: 0.35em; box-decoration-break: clone; -webkit-box-decoration-break: clone\">\n",
       "    Donna\n",
       "    <span style=\"font-size: 0.8em; font-weight: bold; line-height: 1; border-radius: 0.35em; text-transform: uppercase; vertical-align: middle; margin-left: 0.5rem\">PERSON</span>\n",
       "</mark>\n",
       " (\n",
       "<mark class=\"entity\" style=\"background: #aa9cfc; padding: 0.45em 0.6em; margin: 0 0.25em; line-height: 1; border-radius: 0.35em; box-decoration-break: clone; -webkit-box-decoration-break: clone\">\n",
       "    Davis\n",
       "    <span style=\"font-size: 0.8em; font-weight: bold; line-height: 1; border-radius: 0.35em; text-transform: uppercase; vertical-align: middle; margin-left: 0.5rem\">PERSON</span>\n",
       "</mark>\n",
       "), a high school counselor, and \n",
       "<mark class=\"entity\" style=\"background: #aa9cfc; padding: 0.45em 0.6em; margin: 0 0.25em; line-height: 1; border-radius: 0.35em; box-decoration-break: clone; -webkit-box-decoration-break: clone\">\n",
       "    Michael A. Jor\n",
       "    <span style=\"font-size: 0.8em; font-weight: bold; line-height: 1; border-radius: 0.35em; text-transform: uppercase; vertical-align: middle; margin-left: 0.5rem\">PERSON</span>\n",
       "</mark>\n",
       "</div>"
      ],
      "text/plain": [
       "<IPython.core.display.HTML object>"
      ]
     },
     "metadata": {},
     "output_type": "display_data"
    }
   ],
   "source": [
    "t = \"\"\" \"Michael B. Jordan, the middle of three children, was born in Santa Ana, California and raised in Newark, New Jersey. He is the son of Donna (Davis), a high school counselor, and Michael A. Jordan. His middle name, Bakari, means \"noble promise\" in Swahili. (He is not related to, or named after, basketball legend Michael Jordan.)\n",
    "\n",
    "Jordan has starred in three of the most critically acclaimed television dramas of the past decade. First, Jordan played the hard-shelled but softhearted Wallace in HBO's dramatic hit series The Wire (2002). He then went on to star as quarterback Vince Howard on Friday Night Lights (2006) (NBC), before playing a recovering alcoholic, Alex, on NBC's Parenthood (2010).\n",
    "\n",
    "Jordan successfully took on his first major leading film role when he starred as Oscar Grant in Fruitvale Station (2013). The film is an account of Oscar's controversial slaying by police officers on a San Francisco train platform. The cast includes Octavia Spencer and Melonie Diaz, and was produced by Forest Whitaker (Significant Films). It premiered at the 2013 Sundance Film Festival where it received the Grand Jury Prize and Audience Award for U.S. Dramatic Film. It also screened at the 2013 Cannes Film Festival in the Un Certain Regard category. The has garnered many awards including Best First Feature at the 2014 Independent Spirit Awards, Outstanding Independent Motion Picture at the 2014 NAACP Image Awards and the 2014 Stanley Kramer Award from the Producer's Guild of America. The 2013 New York Film Critics Circle honored it with Best First Film and the picture was also chosen as one of the Top Ten Films at the 2013 National Board of Review Awards, where Jordan took home the award for Breakthrough Actor. Jordan also won the 2013 Gotham Award for Breakthrough Actor and was nominated for an Independent Spirit Award for Best Lead Actor.\n",
    "\n",
    "In 2015, Jordan starred in Josh Trank's Fantastic Four (2015), playing the role of 'Johnny Storm' aka 'The Human Torch', opposite Miles Teller, Jamie Bell, and Kate Mara for 20th Century Fox. The film was released on August 7th 2015. Jordan previously starred in 20th Century Fox's box office hit Chronicle (2012) (which was also directed by Trank), a supernatural thriller that follows three Portland teens (MBJ, Dane Dehaan, and Alex Russell) as they develop incredible powers after exposure to a mysterious substance; That Awkward Moment (2015) opposite Zac Efron and Miles Teller for Focus Films; and the George Lucas produced film Red Tails (2012), the story of the first African American pilots to fly in a combat squadron during WWII aka The Tuskegee Airmen.\n",
    "\n",
    "Jordan reunited with Ryan Coogler for Creed (2015), starring alongside Sylvester Stallone and Tessa Thompson. The film was released on Thanksgiving 2015 by MGM and Warner Brothers. A devoted fan of comic books growing up, Jordan starred as the villain, Eric Killmonger, in the 2018 box office smash Black Panther (2018). In 2018, he is also starring as Guy Montag in the HBO adaptation of Ray Bradbury's science fiction classic Fahrenheit 451 (2018).\n",
    "\n",
    "He resides in Los Angeles, where he supports the charity Lupus LA.\"\n",
    "\n",
    "\n",
    "\"\"\"\n",
    "\n",
    "displacy.render(nlp(t[124:194]), style=\"ent\")"
   ]
  },
  {
   "cell_type": "code",
   "execution_count": 222,
   "metadata": {},
   "outputs": [
    {
     "data": {
      "text/plain": [
       "' the son of Donna (Davis), a high school counselor, and Michael A. Jor'"
      ]
     },
     "execution_count": 222,
     "metadata": {},
     "output_type": "execute_result"
    }
   ],
   "source": [
    "t[124:194]"
   ]
  },
  {
   "cell_type": "markdown",
   "metadata": {},
   "source": [
    "## Education"
   ]
  },
  {
   "cell_type": "code",
   "execution_count": 29,
   "metadata": {},
   "outputs": [],
   "source": [
    "input = \"\"\"\n",
    "\"Henry William Dalgliesh Cavill was born on the Bailiwick of Jersey, a British Crown dependency in the Channel Islands. His mother, Marianne (Dalgliesh), a housewife, was also born on Jersey, and is of Irish, Scottish and English ancestry. Henry's father, Colin Richard Cavill, a stockbroker, is of English origin (born in Chester, England). Henry is the second youngest son, with four brothers. He was privately educated at St. Michael's Preparatory School in Saint Saviour, Jersey before attending Stowe School in Buckinghamshire, England.\n",
    "\n",
    "His interest in acting started at an early age with school play renditions of Shakespeare's \"A Midsummer Night's Dream\", and Sonny LaTierri in \"Grease\". He also starred and directed Shakespeare's \"Hamlet\" in the BBC documentary \"40 Minutes\". It was at age 17 when Henry was discovered by casting directors at school who were looking for a young boy to play Albert Mondego in The Count of Monte Cristo (2002). He went on to star in Laguna (2001), appear in BBC's The Inspector Lynley Mysteries (2001), the television film Goodbye, Mr. Chips (2002), and the television series Midsomer Murders (1997).\n",
    "\n",
    "When Henry was 20 years old, he gained starring roles in I Capture the Castle (2003), Hellraiser: Hellworld (2005), Red Riding Hood (2006) and Tristan & Isolde (2006). He also had a minor role in the fantasy-adventure epic Stardust (2007) alongside Sienna Miller and Ben Barnes. During 2007-2010, Henry had a leading role on the television series The Tudors (2007) as Charles Brandon, 1st Duke of Suffolk. The series was a success and was nominated for a Golden Globe Award in 2007 and won an Emmy Award in 2008. Entertainment Weekly named him \"Most Dashing Duke\".\n",
    "\n",
    "He also starred in Blood Creek (2006) and Woody Allen's comedy film Whatever Works (2009). On January 30, 2011, it was announced that Henry Cavill had been cast as the next Superman in Man of Steel (2013), making him the first non-American actor to play Superman. The movie was directed by Zach Snyder, produced by Christopher Nolan, and scripted by David S. Goyer. On November 7, 2011, Henry starred in Tarsem Singh's fantasy-adventure epic Immortals (2011) alongside Mickey Rourke, Freida Pinto and Luke Evans. On September 7, 2012, Henry starred in the action-thriller Cold Light of Day (2003) alongside Bruce Willis and Sigourney Weaver.\n",
    "\n",
    "On June 10, 2013, Man of Steel (2013) kicked off its world premiere in New York City followed by London, Bailiwick of Jersey, Sicily, Madrid, Shanghai, Sydney and Tokyo. The movie became the highest-grossing Superman film to date, and the second-highest-grossing reboot of all time behind The Amazing Spider-Man (2012). Glamour magazine ranked him the #1 \"Sexiest Man\". In August 2014, Henry became the Ambassador for Durrell Wildlife Park and created a website and social media called #CavillConservation to help raise funds and awareness for his love of animals and conservation. On November 3, 2014, it was announced that Cavill, his brother Charlie, and London-based producer Rex Glensy, have formed their own British production company, Promethean Productions.\n",
    "\n",
    "On August 7, 2015, The Man from U.N.C.L.E. (2015) began its premiere tour with a people's premiere at the famous Somerset House in London, followed by its world premiere in New York City, then Toronto, and Rio de Janeiro. Cavill reprised his role as Superman in Batman v Superman: Dawn of Justice (2016) and Justice League (2017).\n",
    "\"\n",
    "\n",
    "\n",
    "\"\"\"\n",
    "\n",
    "text = nlp(input)\n",
    "sentences = list(text.sents)\n",
    "\n",
    "pattern = [{'ENT_TYPE': 'ORG', 'OP': '+'}]\n",
    "education_matcher = Matcher(nlp.vocab)\n",
    "education_matcher.add(\"education\",None,pattern)\n",
    "syntactic_matches = []\n",
    "for sentence in sentences:\n",
    "    t_nlp = nlp(sentence.text)\n",
    "    if re.search(r'university|college|school|academy|husband', sentence.text.lower()):\n",
    "        syntactic_matches.append([t_nlp[s:e].text for _, s, e in education_matcher(t_nlp)])\n",
    "# for org in syntactic_matches:\n",
    "#     if org != []:\n",
    "#         syntactic_matches.append(sorted(org,key=len)[-1])"
   ]
  },
  {
   "cell_type": "code",
   "execution_count": 35,
   "metadata": {},
   "outputs": [
    {
     "name": "stdout",
     "output_type": "stream",
     "text": [
      "[\"'s\", 'St.', 'Stowe', 'School', 'School', 'Michael', \"Michael's\", 'St. Michael', 'Preparatory', 'Stowe School', \"St. Michael's\", \"'s Preparatory\", 'Preparatory School', \"Michael's Preparatory\", \"'s Preparatory School\", \"St. Michael's Preparatory\", \"Michael's Preparatory School\", \"St. Michael's Preparatory School\"]\n",
      "['of', 'The', 'Count', 'Monte', 'Cristo', 'Count of', 'of Monte', 'The Count', 'The Count of', 'Monte Cristo', 'Count of Monte', 'of Monte Cristo', 'The Count of Monte', 'Count of Monte Cristo', 'The Count of Monte Cristo']\n"
     ]
    }
   ],
   "source": [
    "for org in syntactic_matches:\n",
    "    o = sorted(org, key=len)\n",
    "    if o!=[]:\n",
    "        print(o)"
   ]
  },
  {
   "cell_type": "markdown",
   "metadata": {},
   "source": [
    "## movie"
   ]
  },
  {
   "cell_type": "code",
   "execution_count": 49,
   "metadata": {},
   "outputs": [],
   "source": [
    "from collections import namedtuple\n",
    "Film = namedtuple('Film',['title','year'])\n"
   ]
  },
  {
   "cell_type": "code",
   "execution_count": 60,
   "metadata": {},
   "outputs": [
    {
     "data": {
      "text/plain": [
       "[Film(title='Midsomer Murders ', year='1997'),\n",
       " Film(title='Laguna ', year='2001'),\n",
       " Film(title='Lynley Mysteries ', year='2001'),\n",
       " Film(title='The Count of Monte Cristo ', year='2002'),\n",
       " Film(title='Mr. Chips ', year='2002'),\n",
       " Film(title='I Capture the Castle ', year='2003'),\n",
       " Film(title='Cold Light of Day ', year='2003'),\n",
       " Film(title='Hellraiser: Hellworld ', year='2005'),\n",
       " Film(title='Red Riding Hood ', year='2006'),\n",
       " Film(title='Isolde ', year='2006'),\n",
       " Film(title='Blood Creek ', year='2006'),\n",
       " Film(title='Stardust ', year='2007'),\n",
       " Film(title='The Tudors ', year='2007'),\n",
       " Film(title='Whatever Works ', year='2009'),\n",
       " Film(title='Immortals ', year='2011'),\n",
       " Film(title='The Amazing Spider-Man ', year='2012'),\n",
       " Film(title='Superman in Man of Steel ', year='2013'),\n",
       " Film(title='Man of Steel ', year='2013'),\n",
       " Film(title='The Man from U.N.C.L.E. ', year='2015'),\n",
       " Film(title='Superman: Dawn of Justice ', year='2016'),\n",
       " Film(title='Justice League ', year='2017')]"
      ]
     },
     "execution_count": 60,
     "metadata": {},
     "output_type": "execute_result"
    }
   ],
   "source": [
    "re_pattern = r\"([A-Z][\\w' .:-]{1,25})\\((\\d{4})\\)\"\n",
    "film_list =[]\n",
    "for match in re.finditer(re_pattern, input):\n",
    "    film_list.append(\n",
    "        Film(match.group(1),match.group(2))\n",
    "    )\n",
    "sorted(film_list,key =lambda x:x.year)"
   ]
  },
  {
   "cell_type": "code",
   "execution_count": 59,
   "metadata": {},
   "outputs": [
    {
     "data": {
      "text/plain": [
       "'2002'"
      ]
     },
     "execution_count": 59,
     "metadata": {},
     "output_type": "execute_result"
    }
   ],
   "source": [
    "film_list[0].year"
   ]
  },
  {
   "cell_type": "markdown",
   "metadata": {},
   "source": [
    "## Debut\n",
    "### lexical\n",
    "https://www.imdb.com/name/nm0000553/bio?ref_=nm_ov_bio_sm"
   ]
  },
  {
   "cell_type": "code",
   "execution_count": 63,
   "metadata": {},
   "outputs": [],
   "source": [
    "input =\"\"\"\n",
    "\n",
    "Liam Neeson was born on June 7, 1952 in Ballymena, Northern Ireland, to Katherine (Brown), a cook, and Bernard Neeson, a school caretaker. He was raised in a Catholic household. During his early years, Liam worked as a forklift operator for Guinness, a truck driver, an assistant architect and an amateur boxer. He had originally sought a career as a teacher by attending St. Mary's Teaching College, Newcastle. However, in 1976, Neeson joined the Belfast Lyric Players' Theater and made his professional acting debut in the play \"The Risen People\". After two years, Neeson moved to Dublin's Abbey Theater where he performed the classics. It was here that he was spotted by director John Boorman and was cast in the film Excalibur (1981) as Sir Gawain, his first high-profile film role.\n",
    "\n",
    "Through the 1980s Neeson appeared in a handful of films and British TV series - including The Bounty (1984), A Woman of Substance (1984), The Mission (1986), and Duet for One (1986) - but it was not until he moved to Hollywood to pursue larger roles that he began to get noticed. His turn as a mute homeless man in Suspect (1987) garnered good reviews, as did supporting roles in The Good Mother (1988) and High Spirits (1988) - though he also starred in the best-to-be-forgotten Satisfaction (1988), which also featured a then-unknown Julia Roberts - but leading man status eluded him until the cult favorite Darkman (1990), directed by Sam Raimi. From there, Neeson starred in Under Suspicion (1991) and Ethan Frome (1993), was hailed for his performance in Woody Allen's Husbands and Wives (1992), and ultimately was picked by Steven Spielberg to play Oskar Schindler in Schindler's List (1993). The starring role in the Oscar-winning Holocaust film brought Neeson Academy Award, BAFTA and Golden Globe nominations for Best Actor.\n",
    "\n",
    "Also in 1993, he made his Broadway debut with a Tony-nominated performance in \"Anna Christie\", in which he co-starred with his future wife Natasha Richardson. The next year, the two also starred opposite Jodie Foster in the movie Nell (1994), and were married in July of that year. Leading roles as the 18th century Scottish Highlander Rob Roy (1995) and the Irish revolutionary leader Michael Collins (1996) followed, and soon Neeson was solidified as one of Hollywood's top leading men. He starred in the highly-anticipated Star Wars: Episode I - The Phantom Menace (1999) as Qui-Gon Jinn, received a Golden Globe nomination for Kinsey (2004), played the mysterious Ducard in Christopher Nolan's Batman Begins (2005), and provided the voice for Aslan in The Chronicles of Narnia: The Lion, the Witch and the Wardrobe (2005).\n",
    "\n",
    "\"\"\""
   ]
  },
  {
   "cell_type": "code",
   "execution_count": 69,
   "metadata": {},
   "outputs": [
    {
     "data": {
      "text/plain": [
       "' It was here that he was spotted by director John Boorman and was cast in the film Excalibur (1981)'"
      ]
     },
     "execution_count": 69,
     "metadata": {},
     "output_type": "execute_result"
    }
   ],
   "source": [
    "re_pattern = r\"debut.*?([\\w '-]+\\(\\d{4}\\))\"\n",
    "debut_match = []\n",
    "for match in re.finditer(re_pattern,input):\n",
    "    debut_match.append(match.group(1))\n",
    "debut_match = debut_match[0] \n",
    "debut_match"
   ]
  },
  {
   "cell_type": "code",
   "execution_count": 71,
   "metadata": {},
   "outputs": [
    {
     "data": {
      "text/plain": [
       "['Excalibur']"
      ]
     },
     "execution_count": 71,
     "metadata": {},
     "output_type": "execute_result"
    }
   ],
   "source": [
    "def starin_syntactic(input):\n",
    "    \"\"\"\n",
    "    identical to starin_lexical\n",
    "    \"\"\"\n",
    "    re_pattern = r\"([A-Z][\\w' .:-]{1,25})\\((\\d{4})\\)\"\n",
    "    film_list =[]\n",
    "    for match in re.finditer(re_pattern, input):\n",
    "        film_list.append(\n",
    "            Film(match.group(1),match.group(2))\n",
    "        )\n",
    "    film_list = sorted(film_list, key=lambda x: x.year)\n",
    "    export = [film.title.strip() for film in film_list]\n",
    "\n",
    "    return export\n",
    "\n",
    "starin_syntactic(debut_match)"
   ]
  },
  {
   "cell_type": "markdown",
   "metadata": {},
   "source": [
    "## export"
   ]
  },
  {
   "cell_type": "code",
   "execution_count": 72,
   "metadata": {},
   "outputs": [],
   "source": [
    "export_file_path = \"./Ziheng_Gong_hw02_cast.jl\"\n",
    "export_dict = {\"a\": \"a\",\"b\":\"b\"}\n",
    "with open(export_file_path,\"w+\") as f:\n",
    "    f.write(str(export_dict))\n",
    "    f.write('\\n')"
   ]
  },
  {
   "cell_type": "code",
   "execution_count": null,
   "metadata": {},
   "outputs": [],
   "source": []
  }
 ],
 "metadata": {
  "kernelspec": {
   "display_name": "Python 3",
   "language": "python",
   "name": "python3"
  },
  "language_info": {
   "codemirror_mode": {
    "name": "ipython",
    "version": 3
   },
   "file_extension": ".py",
   "mimetype": "text/x-python",
   "name": "python",
   "nbconvert_exporter": "python",
   "pygments_lexer": "ipython3",
   "version": "3.7.6"
  }
 },
 "nbformat": 4,
 "nbformat_minor": 4
}
