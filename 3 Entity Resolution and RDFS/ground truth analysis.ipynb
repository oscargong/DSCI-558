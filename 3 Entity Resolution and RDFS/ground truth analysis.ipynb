{
 "cells": [
  {
   "cell_type": "markdown",
   "metadata": {},
   "source": [
    "## convert ground truth url to title/ year/ genre"
   ]
  },
  {
   "cell_type": "code",
   "execution_count": 30,
   "metadata": {},
   "outputs": [],
   "source": [
    "import json,re\n",
    "from datetime import datetime"
   ]
  },
  {
   "cell_type": "code",
   "execution_count": 37,
   "metadata": {},
   "outputs": [],
   "source": [
    "truth_path =\"/Users/oscar/Dropbox/1) Schoolwork/DSCI 558 Building Knowledge Graphs/Homework/HW3/Instruction/imdb_afi_el.dev.json\"\n",
    "\n",
    "with open(truth_path,'r') as f:\n",
    "    truch_dict_list = json.loads(f.read())"
   ]
  },
  {
   "cell_type": "code",
   "execution_count": 156,
   "metadata": {},
   "outputs": [],
   "source": [
    "afi_path = \"./Task1 Entity Resolution/afi.jl\"\n",
    "imdb_path = \"./Task1 Entity Resolution/imdb.jl\"\n",
    "afi_dict = dict()\n",
    "imdb_dict = dict()\n",
    "\n",
    "# afi\n",
    "count = 0\n",
    "for line in open(afi_path,'r').read().split('\\n'):\n",
    "    afi = json.loads(line)\n",
    "    url = afi.get('url',None)\n",
    "    title = afi.get('title',None)\n",
    "    release_date = afi.get('release_date',None)\n",
    "    genre = afi.get('genre',None)\n",
    "    \n",
    "    afi_year = 0\n",
    "    if release_date == None:\n",
    "        afi_year = None     \n",
    "    elif re.match(r\"\\d{1,2}[, ]\\w{3,9}[, ]{1,2}\\d{4}\",release_date):\n",
    "#         afi_year = datetime.strptime(release_date,'%d %b, %Y').strftime(\"%Y\")\n",
    "        afi_year = release_date[-4:]\n",
    "    elif re.match(r\"\\d\\d/\\d\\d/\\d\\d\\d\\d\",release_date):\n",
    "        afi_year = release_date[-4:]\n",
    "    elif re.match(r\"\\w{3,9}[, ]{1,2}\\d{4}\",release_date):\n",
    "        afi_year = release_date[-4:]\n",
    "    elif re.match(r\"\\d{4}\",release_date):\n",
    "        afi_year = release_date\n",
    "    else:\n",
    "        print(count+1,title)\n",
    "\n",
    "    afi_dict[url] = {'title':title,'release_date':afi_year,'genre':genre}\n",
    "    \n",
    "    count += 1\n",
    "# imdb\n",
    "for line in open(imdb_path,'r').read().split('\\n'):\n",
    "    imdb = json.loads(line)\n",
    "    url = imdb.get('url',None)\n",
    "    name = imdb.get('name',None)\n",
    "    year = imdb.get('year',None)\n",
    "    genre = imdb.get('genre',None)\n",
    "        \n",
    "    imdb_dict[url] = {'name':name,'year':year,'genre':genre}"
   ]
  },
  {
   "cell_type": "code",
   "execution_count": null,
   "metadata": {},
   "outputs": [],
   "source": []
  },
  {
   "cell_type": "code",
   "execution_count": 157,
   "metadata": {},
   "outputs": [],
   "source": [
    "truth_list = []\n",
    "\n",
    "for truth in truch_dict_list:\n",
    "    imdb_movie = truth['imdb_movie']\n",
    "    afi_movie = truth['afi_movie']\n",
    "    \n",
    "    if imdb_movie == None:\n",
    "        imdb = None\n",
    "    else:    \n",
    "        imdb = {\n",
    "            'url':imdb_movie, \n",
    "            'name':imdb_dict[imdb_movie]['name'], \n",
    "            'year':imdb_dict[imdb_movie]['year'],\n",
    "            'genre':imdb_dict[imdb_movie]['genre']\n",
    "        }\n",
    "    \n",
    "    if afi_movie == None:\n",
    "        afi = None\n",
    "    else:\n",
    "        afi = {\n",
    "            'url': afi_movie,\n",
    "            'title':afi_dict[afi_movie]['title'],\n",
    "            'release_date': afi_dict[afi_movie]['release_date'],\n",
    "            'genre':afi_dict[afi_movie]['genre']\n",
    "        }\n",
    "    truth_list.append({\"imdb\":imdb,\"afi\":afi})"
   ]
  },
  {
   "cell_type": "code",
   "execution_count": 100,
   "metadata": {},
   "outputs": [
    {
     "data": {
      "text/plain": [
       "50"
      ]
     },
     "execution_count": 100,
     "metadata": {},
     "output_type": "execute_result"
    }
   ],
   "source": [
    "len(truth_list)"
   ]
  },
  {
   "cell_type": "code",
   "execution_count": 97,
   "metadata": {},
   "outputs": [],
   "source": [
    "# import Levenshtein\n",
    "\n",
    "from strsimpy.levenshtein import Levenshtein\n",
    "levenshtein = Levenshtein()\n",
    "\n",
    "from strsimpy.cosine import Cosine\n",
    "cosine = Cosine(10)\n",
    "\n",
    "from strsimpy.metric_lcs import MetricLCS\n",
    "\n",
    "metric_lcs = MetricLCS()"
   ]
  },
  {
   "cell_type": "code",
   "execution_count": 187,
   "metadata": {},
   "outputs": [
    {
     "name": "stdout",
     "output_type": "stream",
     "text": [
      "0.8181818181818182\n"
     ]
    }
   ],
   "source": [
    "print(1- metric_lcs.distance(\"Toy Story 3\",\"Toy Story\"))"
   ]
  },
  {
   "cell_type": "code",
   "execution_count": 178,
   "metadata": {},
   "outputs": [
    {
     "name": "stdout",
     "output_type": "stream",
     "text": [
      "Intolerance: Love's Struggle Throughout the Ages | Intolerance\n",
      "King Kong | KING KONG\n",
      "Miracle on 34th Street | MIZACLE ON 3ATH STREET\n",
      "Sunset Blvd. | SUNSET BLVD.\n",
      "A Streetcar Named Desire | STREETCAR NAMED DESIRE , A\n",
      "High Noon | HIGH NOON\n",
      "Sweet Smell of Success | Sweet Smell of Success\n",
      "Doctor Zhivago | DOCIOR ZHIVAGO\n",
      "2001: A Space Odyssey | 2001: A SPACE ODYSSEY\n",
      "Minority Report | Minority Report\n",
      "Argo | Argo\n",
      "Inception | Inception\n",
      "Whiplash | Whiplash\n",
      "Rocky | RVCKY\n",
      "Apocalypse Now | APOCALYPSERNOW\n",
      "Blue Velvet | BLUE VOLVET\n",
      "Die Hard | DIE HARD\n"
     ]
    }
   ],
   "source": [
    "for truth in truth_list:\n",
    "    if truth['imdb'] == None or truth['afi'] == None:\n",
    "        continue\n",
    "    imdb_name = truth['imdb']['name'].strip()\n",
    "    afi_title = truth['afi']['title'].strip()\n",
    "    similarity = 1 - metric_lcs.distance(imdb_name.lower(),afi_title.lower())\n",
    "#     print(similarity)\n",
    "    print(imdb_name,'|',afi_title)\n",
    "    imdb_genre = truth['imdb']['genre']\n",
    "    afi_genre = truth['afi']['genre']\n",
    "#     print(imdb_genre,'｜',afi_genre)\n",
    "    \n",
    "    imdb_year = truth['imdb']['year']\n",
    "    afi_year = truth['afi']['release_date']\n",
    "#     print(imdb_year,afi_year)\n",
    "    \n",
    "#     print(\"URL\\tIMDB:{}\\tAFI:{}\".format(truth['imdb']['url'],truth['afi']['url']))\n",
    "#     print(\"TITLE\\tIMDB:{}\\tAFI:{}\\tEdit:{}\".format(imdb_name,afi_title,distance))\n",
    "#     print(\"YEAR\\tIMDB:{}\\tAFI:{}\\t\".format(truth['imdb']['year'],truth['afi']['release_date']))"
   ]
  },
  {
   "cell_type": "code",
   "execution_count": 216,
   "metadata": {},
   "outputs": [
    {
     "data": {
      "text/plain": [
       "{'#M', 'Ma', 'Th', 'at', 'e#', 'he', 'ix', 'ri', 'tr'}"
      ]
     },
     "execution_count": 216,
     "metadata": {},
     "output_type": "execute_result"
    }
   ],
   "source": [
    "import rltk\n",
    "\n",
    "tokenizer = rltk.NGramTokenizer()\n",
    "tokenizer.basic(\"The Matrix\",2)"
   ]
  },
  {
   "cell_type": "code",
   "execution_count": 183,
   "metadata": {},
   "outputs": [],
   "source": [
    "export = [\n",
    "{\"imdb_movie\": \"https://www.imdb.com/title/tt0033467/\", \"afi_movie\": \"https://catalog.afi.com/#dc440a1a7fa4a6bd30f183eded493ef2\" }, \n",
    "{ \"imdb_movie\": \"https://www.imdb.com/title/tt0108052/\", \"afi_movie\": \"https://catalog.afi.com/#642a1d0b14872b56d8fde9228170da6f\" }\n",
    "]\n",
    "with open(\"testoutput.json\",'w') as f:\n",
    "    json.dump(export,f)"
   ]
  },
  {
   "cell_type": "code",
   "execution_count": null,
   "metadata": {},
   "outputs": [],
   "source": []
  }
 ],
 "metadata": {
  "kernelspec": {
   "display_name": "Python 3",
   "language": "python",
   "name": "python3"
  },
  "language_info": {
   "codemirror_mode": {
    "name": "ipython",
    "version": 3
   },
   "file_extension": ".py",
   "mimetype": "text/x-python",
   "name": "python",
   "nbconvert_exporter": "python",
   "pygments_lexer": "ipython3",
   "version": "3.7.6"
  }
 },
 "nbformat": 4,
 "nbformat_minor": 4
}
