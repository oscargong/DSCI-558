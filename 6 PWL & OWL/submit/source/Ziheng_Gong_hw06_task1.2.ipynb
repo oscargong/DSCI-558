{
 "metadata": {
  "language_info": {
   "codemirror_mode": {
    "name": "ipython",
    "version": 3
   },
   "file_extension": ".py",
   "mimetype": "text/x-python",
   "name": "python",
   "nbconvert_exporter": "python",
   "pygments_lexer": "ipython3",
   "version": "3.7.6-final"
  },
  "orig_nbformat": 2,
  "kernelspec": {
   "name": "Python 3.7.6 64-bit ('base': conda)",
   "display_name": "Python 3.7.6 64-bit ('base': conda)",
   "metadata": {
    "interpreter": {
     "hash": "dca0ade3e726a953b501b15e8e990130d2b7799f14cfd9f4271676035ebe5511"
    }
   }
  }
 },
 "nbformat": 4,
 "nbformat_minor": 2,
 "cells": [
  {
   "cell_type": "code",
   "execution_count": 39,
   "metadata": {
    "tags": []
   },
   "outputs": [
    {
     "output_type": "stream",
     "name": "stdout",
     "text": [
      "('CcMp9oAv4aPM', 'BZHi6iQGwDkq')\n"
     ]
    }
   ],
   "source": [
    "import json,os\n",
    "with open('./data_source1.json','r') as f:\n",
    "    data_source_1 = json.load(f)\n",
    "\n",
    "with open('./data_source2.json','r') as f:\n",
    "    data_source_2 = json.load(f)\n",
    "\n",
    "targets = [] # => ('CcMp9oAv4aPM', 'BZHi6iQGwDkq')\n",
    "with open('./same_paper_targets.txt','r') as f:\n",
    "    for line in f.readlines():\n",
    "        source,target = line.strip().split('\\t')\n",
    "        targets.append((source,target))\n",
    "print(targets[0]) "
   ]
  },
  {
   "cell_type": "code",
   "execution_count": 40,
   "metadata": {},
   "outputs": [],
   "source": [
    "from collections import namedtuple\n",
    "Record = namedtuple('Record',['title','year'],defaults = None)\n",
    "\n",
    "source_1_dict = dict()\n",
    "for item in data_source_1:\n",
    "    id = item['id']\n",
    "    title = item['title']\n",
    "    year = item['year']\n",
    "    source_1_dict[id] = Record(title,year)\n",
    "\n",
    "source_2_dict = dict()\n",
    "for item in data_source_2:\n",
    "    id = item['id']\n",
    "    title = item['title']\n",
    "    year = item['year']\n",
    "    source_2_dict[id] = Record(title,year)    "
   ]
  },
  {
   "cell_type": "code",
   "execution_count": 43,
   "metadata": {
    "tags": []
   },
   "outputs": [],
   "source": [
    "import string\n",
    "# pip install -U strsimpy\n",
    "from strsimpy.jaro_winkler import JaroWinkler\n",
    "from strsimpy.normalized_levenshtein import NormalizedLevenshtein\n",
    "normalized_levenshtein = NormalizedLevenshtein().similarity\n",
    "jarowinkler = JaroWinkler().similarity\n",
    "\n",
    "def year_similarity(year1, year2):\n",
    "    \"\"\"\n",
    "    :input: str\n",
    "    \"\"\"\n",
    "    if year1 == year2:\n",
    "        return 1.0\n",
    "    elif year1 == '' or year2 =='':\n",
    "        return 0.5\n",
    "    else:\n",
    "        return normalized_levenshtein(year1,year2)\n",
    "def remove_punctuation(s):\n",
    "    return s.translate(str.maketrans('', '', string.punctuation))        "
   ]
  },
  {
   "cell_type": "code",
   "execution_count": 44,
   "metadata": {},
   "outputs": [
    {
     "output_type": "stream",
     "name": "stderr",
     "text": [
      "100%|██████████| 105173/105173 [00:17<00:00, 5895.05it/s]\n"
     ]
    }
   ],
   "source": [
    "# pip install tqdm\n",
    "from tqdm import tqdm\n",
    "\n",
    "years_sim_file = open(\"years_sim_obs.txt\", \"w\")\n",
    "title_sim_file = open(\"title_sim_obs.txt\", \"w\")\n",
    "\n",
    "for source,target in tqdm(targets):\n",
    "    year_sim = year_similarity(source_1_dict[source].year, source_2_dict[target].year)\n",
    "    title_sim = jarowinkler(\n",
    "    remove_punctuation(source_1_dict[source].title.lower()),\n",
    "    remove_punctuation(source_2_dict[target].title.lower())\n",
    "    )\n",
    "\n",
    "    years_sim_file.write(f\"{source}\\t{target}\\t{year_sim}\\n\")\n",
    "    title_sim_file.write(f\"{source}\\t{target}\\t{title_sim}\\n\")\n",
    "\n",
    "years_sim_file.close()\n",
    "title_sim_file.close()"
   ]
  },
  {
   "cell_type": "code",
   "execution_count": 35,
   "metadata": {
    "tags": []
   },
   "outputs": [
    {
     "output_type": "stream",
     "name": "stderr",
     "text": [
      "100%|██████████| 105173/105173 [00:01<00:00, 88094.63it/s]\n"
     ]
    }
   ],
   "source": [
    "# pip install tqdm\n",
    "from tqdm import tqdm\n",
    "\n",
    "years_sim_file = open(\"years_sim_obs.txt\", \"w\")\n",
    "title_sim_file = open(\"title_sim_obs.txt\", \"w\")\n",
    "\n",
    "for source,target in tqdm(targets):\n",
    "    year_sim = new_year_similarity(source_1_dict[source].year, source_2_dict[target].year)\n",
    "    title_sim = my_jaccard(source_1_dict[source].title.lower(), source_2_dict[target].title.lower())\n",
    "\n",
    "    years_sim_file.write(f\"{source}\\t{target}\\t{year_sim}\\n\")\n",
    "    title_sim_file.write(f\"{source}\\t{target}\\t{title_sim}\\n\")\n",
    "\n",
    "years_sim_file.close()\n",
    "title_sim_file.close()"
   ]
  }
 ]
}