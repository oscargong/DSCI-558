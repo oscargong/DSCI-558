{
 "metadata": {
  "language_info": {
   "codemirror_mode": {
    "name": "ipython",
    "version": 3
   },
   "file_extension": ".py",
   "mimetype": "text/x-python",
   "name": "python",
   "nbconvert_exporter": "python",
   "pygments_lexer": "ipython3",
   "version": "3.7.6-final"
  },
  "orig_nbformat": 2,
  "kernelspec": {
   "name": "Python 3.7.6 64-bit ('base': conda)",
   "display_name": "Python 3.7.6 64-bit ('base': conda)",
   "metadata": {
    "interpreter": {
     "hash": "dca0ade3e726a953b501b15e8e990130d2b7799f14cfd9f4271676035ebe5511"
    }
   }
  }
 },
 "nbformat": 4,
 "nbformat_minor": 2,
 "cells": [
  {
   "cell_type": "code",
   "execution_count": 1,
   "metadata": {},
   "outputs": [],
   "source": [
    "import pandas\n",
    "column_name = ['type', 'series', 'name', 'code']\n",
    "column_name.extend([str(i) for i in range(1960,2018,1)])\n",
    "\n",
    "df = pandas.read_excel('world-development-indicators.xlsx')\n",
    "df = df[:792]\n",
    "df.columns = column_name"
   ]
  },
  {
   "cell_type": "code",
   "execution_count": 2,
   "metadata": {},
   "outputs": [
    {
     "output_type": "execute_result",
     "data": {
      "text/plain": [
       "                                type             series  \\\n",
       "545    Population, male (% of total)  SP.POP.TOTL.MA.ZS   \n",
       "387  Population, female (% of total)  SP.POP.TOTL.FE.ZS   \n",
       "119                Population, total        SP.POP.TOTL   \n",
       "\n",
       "                          name code     1960     1961     1962     1963  \\\n",
       "545                   Barbados  BRB  44.8002  44.8944  45.1085  45.3998   \n",
       "387  Korea, Dem. People’s Rep.  PRK  53.7895  53.6805  53.5933   53.516   \n",
       "119                     Jordan  JOR   932257   973083  1009733  1049302   \n",
       "\n",
       "        1964     1965  ...     2008     2009     2010     2011     2012  \\\n",
       "545  45.7083  45.9889  ...  47.9944   47.991  47.9837  47.9743  47.9598   \n",
       "387   53.432  53.3315  ...  51.1508  51.1436  51.1359  51.1275  51.1191   \n",
       "119  1101459  1172550  ...  6489822  6821116  7182390  7574943  7992573   \n",
       "\n",
       "        2013     2014     2015     2016     2017  \n",
       "545  47.9472  47.9297  47.9131  47.8949  47.8771  \n",
       "387  51.1108  51.1034  51.0973  51.0925   51.089  \n",
       "119  8413464  8809306  9159302  9455802  9702353  \n",
       "\n",
       "[3 rows x 62 columns]"
      ],
      "text/html": "<div>\n<style scoped>\n    .dataframe tbody tr th:only-of-type {\n        vertical-align: middle;\n    }\n\n    .dataframe tbody tr th {\n        vertical-align: top;\n    }\n\n    .dataframe thead th {\n        text-align: right;\n    }\n</style>\n<table border=\"1\" class=\"dataframe\">\n  <thead>\n    <tr style=\"text-align: right;\">\n      <th></th>\n      <th>type</th>\n      <th>series</th>\n      <th>name</th>\n      <th>code</th>\n      <th>1960</th>\n      <th>1961</th>\n      <th>1962</th>\n      <th>1963</th>\n      <th>1964</th>\n      <th>1965</th>\n      <th>...</th>\n      <th>2008</th>\n      <th>2009</th>\n      <th>2010</th>\n      <th>2011</th>\n      <th>2012</th>\n      <th>2013</th>\n      <th>2014</th>\n      <th>2015</th>\n      <th>2016</th>\n      <th>2017</th>\n    </tr>\n  </thead>\n  <tbody>\n    <tr>\n      <th>545</th>\n      <td>Population, male (% of total)</td>\n      <td>SP.POP.TOTL.MA.ZS</td>\n      <td>Barbados</td>\n      <td>BRB</td>\n      <td>44.8002</td>\n      <td>44.8944</td>\n      <td>45.1085</td>\n      <td>45.3998</td>\n      <td>45.7083</td>\n      <td>45.9889</td>\n      <td>...</td>\n      <td>47.9944</td>\n      <td>47.991</td>\n      <td>47.9837</td>\n      <td>47.9743</td>\n      <td>47.9598</td>\n      <td>47.9472</td>\n      <td>47.9297</td>\n      <td>47.9131</td>\n      <td>47.8949</td>\n      <td>47.8771</td>\n    </tr>\n    <tr>\n      <th>387</th>\n      <td>Population, female (% of total)</td>\n      <td>SP.POP.TOTL.FE.ZS</td>\n      <td>Korea, Dem. People’s Rep.</td>\n      <td>PRK</td>\n      <td>53.7895</td>\n      <td>53.6805</td>\n      <td>53.5933</td>\n      <td>53.516</td>\n      <td>53.432</td>\n      <td>53.3315</td>\n      <td>...</td>\n      <td>51.1508</td>\n      <td>51.1436</td>\n      <td>51.1359</td>\n      <td>51.1275</td>\n      <td>51.1191</td>\n      <td>51.1108</td>\n      <td>51.1034</td>\n      <td>51.0973</td>\n      <td>51.0925</td>\n      <td>51.089</td>\n    </tr>\n    <tr>\n      <th>119</th>\n      <td>Population, total</td>\n      <td>SP.POP.TOTL</td>\n      <td>Jordan</td>\n      <td>JOR</td>\n      <td>932257</td>\n      <td>973083</td>\n      <td>1009733</td>\n      <td>1049302</td>\n      <td>1101459</td>\n      <td>1172550</td>\n      <td>...</td>\n      <td>6489822</td>\n      <td>6821116</td>\n      <td>7182390</td>\n      <td>7574943</td>\n      <td>7992573</td>\n      <td>8413464</td>\n      <td>8809306</td>\n      <td>9159302</td>\n      <td>9455802</td>\n      <td>9702353</td>\n    </tr>\n  </tbody>\n</table>\n<p>3 rows × 62 columns</p>\n</div>"
     },
     "metadata": {},
     "execution_count": 2
    }
   ],
   "source": [
    "df.sample(3)"
   ]
  },
  {
   "cell_type": "code",
   "execution_count": 3,
   "metadata": {},
   "outputs": [],
   "source": [
    "import rdflib\n",
    "from rdflib import Literal, RDF, URIRef, Namespace\n",
    "\n",
    "from rdflib.namespace import RDFS,RDF,XSD\n",
    "MYNS = Namespace('http://dsci558.org/myfakenamespace#')\n",
    "QB = Namespace('http://purl.org/linked-data/cube#')"
   ]
  },
  {
   "cell_type": "code",
   "execution_count": 4,
   "metadata": {
    "tags": []
   },
   "outputs": [],
   "source": [
    "g = rdflib.Graph()\n",
    "\n",
    "# bind namespaces to prefixes to shorten the URIs for Turtle\n",
    "g.bind('my_ns', MYNS)\n",
    "g.bind('rdfs',RDFS)\n",
    "g.bind('qb',QB)"
   ]
  },
  {
   "cell_type": "code",
   "execution_count": 5,
   "metadata": {
    "tags": []
   },
   "outputs": [
    {
     "output_type": "execute_result",
     "data": {
      "text/plain": [
       "[Entry(year='1960', code='AFG', type='total', data=8996351),\n",
       " Entry(year='1960', code='AFG', type='female', data=48.3194782591104),\n",
       " Entry(year='1960', code='AFG', type='male', data=51.6805217408896)]"
      ]
     },
     "metadata": {},
     "execution_count": 5
    }
   ],
   "source": [
    "from collections import defaultdict,namedtuple\n",
    "year_list = [str(i) for i in range(1960,2018,1)]\n",
    "database = defaultdict(list)\n",
    "Entry = namedtuple('Entry',['year','code','type','data'])\n",
    "\n",
    "for row in df.itertuples():\n",
    "    country_code = row.code\n",
    "    type = row.type[12:]\n",
    "\n",
    "    if 'female' in type:\n",
    "        type = 'female'\n",
    "    elif 'male' in type:\n",
    "        type = 'male'\n",
    "    else:\n",
    "        type = 'total'\n",
    "    \n",
    "    for index,year in enumerate(year_list):\n",
    "        row_number = index + 5\n",
    "        database[year+country_code].append(Entry(year, country_code, type, row[row_number]))\n",
    "database['1960AFG']        "
   ]
  },
  {
   "cell_type": "code",
   "execution_count": 6,
   "metadata": {
    "tags": []
   },
   "outputs": [
    {
     "output_type": "stream",
     "name": "stderr",
     "text": [
      "100%|██████████| 15312/15312 [00:04<00:00, 3771.65it/s]\n"
     ]
    }
   ],
   "source": [
    "from tqdm import tqdm\n",
    "observation_id = 0 \n",
    "\n",
    "for key in tqdm(database):\n",
    "    year = key[:4]\n",
    "    code = key[4:]\n",
    "    obs_dict = dict()\n",
    "    for entry in database[year + code]:\n",
    "        if entry.type == \"total\":\n",
    "            obs_dict['total'] = entry.data\n",
    "        elif entry.type == \"female\":\n",
    "            obs_dict['female'] = entry.data\n",
    "        elif entry.type == \"male\":\n",
    "            obs_dict['male'] = entry.data\n",
    "    \n",
    "    observation_uri = MYNS[f'observation_{observation_id}']\n",
    "    g.add((observation_uri, RDF.type, QB['Observation']))\n",
    "    g.add((observation_uri, MYNS['refPeriod'], URIRef(f'http://reference.data.gov.uk/id/gregorian-interval/{year}-01-01T00:00:00/P3Y')))\n",
    "    g.add((observation_uri, MYNS['measure_population'], Literal(obs_dict['total'], datatype=XSD.integer)))\n",
    "    g.add((observation_uri, MYNS['measure_femalePopulation'], Literal(obs_dict['female'], datatype=XSD.float)))\n",
    "    g.add((observation_uri, MYNS['measure_malePopulation'], Literal(obs_dict['male'], datatype=XSD.float)))\n",
    "    g.add((observation_uri, MYNS['refArea'], MYNS[code]))\n",
    "    g.add((observation_uri, QB['dataSet'], MYNS['world_development_indicators']))\n",
    "    \n",
    "    observation_id += 1\n"
   ]
  },
  {
   "cell_type": "code",
   "execution_count": 7,
   "metadata": {
    "tags": []
   },
   "outputs": [
    {
     "output_type": "stream",
     "name": "stderr",
     "text": [
      "100%|██████████| 264/264 [00:00<00:00, 16347.72it/s]\n"
     ]
    }
   ],
   "source": [
    "country_name = df['name'].to_numpy()\n",
    "country = {\n",
    "    df['code'].to_numpy()[i] : country_name[i]\n",
    "    for i in range(len(country_name)) \n",
    "}\n",
    "for code,name in tqdm(country.items()):\n",
    "    country_uri = URIRef(MYNS[code])\n",
    "    g.add((country_uri, RDF.type, MYNS['refArea']))\n",
    "    g.add((country_uri, RDFS.label, Literal(name)))"
   ]
  },
  {
   "cell_type": "code",
   "execution_count": 8,
   "metadata": {},
   "outputs": [],
   "source": [
    "g.serialize('testoutput.ttl', format=\"turtle\")"
   ]
  },
  {
   "cell_type": "code",
   "execution_count": 9,
   "metadata": {},
   "outputs": [],
   "source": [
    "dataset_text = \"\"\"\\n\n",
    "# Data Set\n",
    "@prefix dct:    <http://purl.org/dc/terms/> .\n",
    "@prefix sdmx-subject:   <http://purl.org/linked-data/sdmx/2009/subject#> .\n",
    "\n",
    "my_ns:world_development_indicators a qb:DataSet;\n",
    "    dct:title   \"World Development Indicators\"@en ;\n",
    "    rdfs:label  \"World Development Indicators\"@en ;\n",
    "    dct:subject sdmx-subject:1.1 ; # Demographic and social statistics -> Population and migration\n",
    "    qb:structure my_ns:population .\n",
    "\"\"\"\n",
    "\n",
    "with open('testoutput.ttl','a+') as f:\n",
    "    f.write(dataset_text)"
   ]
  }
 ]
}