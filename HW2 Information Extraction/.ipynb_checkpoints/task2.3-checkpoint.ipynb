{
 "cells": [
  {
   "cell_type": "code",
   "execution_count": 1,
   "metadata": {},
   "outputs": [],
   "source": [
    "import spacy\n",
    "from spacy.matcher import Matcher\n",
    "from spacy.tokens import Token\n",
    "from spacy import displacy\n",
    "\n",
    "nlp = spacy.load('en_core_web_md')"
   ]
  },
  {
   "cell_type": "markdown",
   "metadata": {},
   "source": [
    "## Visualizing the dependency parse"
   ]
  },
  {
   "cell_type": "code",
   "execution_count": 15,
   "metadata": {},
   "outputs": [
    {
     "data": {
      "text/html": [
       "<div class=\"entities\" style=\"line-height: 2.5; direction: ltr\">In \n",
       "<mark class=\"entity\" style=\"background: #bfe1d9; padding: 0.45em 0.6em; margin: 0 0.25em; line-height: 1; border-radius: 0.35em; box-decoration-break: clone; -webkit-box-decoration-break: clone\">\n",
       "    2005\n",
       "    <span style=\"font-size: 0.8em; font-weight: bold; line-height: 1; border-radius: 0.35em; text-transform: uppercase; vertical-align: middle; margin-left: 0.5rem\">DATE</span>\n",
       "</mark>\n",
       ", \n",
       "<mark class=\"entity\" style=\"background: #aa9cfc; padding: 0.45em 0.6em; margin: 0 0.25em; line-height: 1; border-radius: 0.35em; box-decoration-break: clone; -webkit-box-decoration-break: clone\">\n",
       "    Downey Jr.\n",
       "    <span style=\"font-size: 0.8em; font-weight: bold; line-height: 1; border-radius: 0.35em; text-transform: uppercase; vertical-align: middle; margin-left: 0.5rem\">PERSON</span>\n",
       "</mark>\n",
       " married \n",
       "<mark class=\"entity\" style=\"background: #aa9cfc; padding: 0.45em 0.6em; margin: 0 0.25em; line-height: 1; border-radius: 0.35em; box-decoration-break: clone; -webkit-box-decoration-break: clone\">\n",
       "    Susan Downey\n",
       "    <span style=\"font-size: 0.8em; font-weight: bold; line-height: 1; border-radius: 0.35em; text-transform: uppercase; vertical-align: middle; margin-left: 0.5rem\">PERSON</span>\n",
       "</mark>\n",
       ", with whom he has \n",
       "<mark class=\"entity\" style=\"background: #e4e7d2; padding: 0.45em 0.6em; margin: 0 0.25em; line-height: 1; border-radius: 0.35em; box-decoration-break: clone; -webkit-box-decoration-break: clone\">\n",
       "    two\n",
       "    <span style=\"font-size: 0.8em; font-weight: bold; line-height: 1; border-radius: 0.35em; text-transform: uppercase; vertical-align: middle; margin-left: 0.5rem\">CARDINAL</span>\n",
       "</mark>\n",
       " children.</div>"
      ],
      "text/plain": [
       "<IPython.core.display.HTML object>"
      ]
     },
     "metadata": {},
     "output_type": "display_data"
    }
   ],
   "source": [
    "marriage_sentence = nlp('In 2005, Downey Jr. married Susan Downey, with whom he has two children.')\n",
    "# displacy.render(marriage_sentence, style=\"dep\",jupyter=True)\n",
    "displacy.render(marriage_sentence, style=\"ent\",jupyter=True)"
   ]
  },
  {
   "cell_type": "code",
   "execution_count": 4,
   "metadata": {},
   "outputs": [],
   "source": [
    "tsv_file = './data/entities_bio.tsv'\n",
    "text_list = []\n",
    "with open(tsv_file,'r') as f:\n",
    "    for line in f.readlines():\n",
    "        ted dxt = line.split('\\t')[1]\n",
    "        text_list.append(text)"
   ]
  },
  {
   "cell_type": "code",
   "execution_count": 12,
   "metadata": {},
   "outputs": [],
   "source": [
    "test = text_list[2]\n"
   ]
  },
  {
   "cell_type": "code",
   "execution_count": 101,
   "metadata": {},
   "outputs": [],
   "source": [
    "test_text = \"\"\"\n",
    "om is the only son (among four children) of nomadic parents, Mary Lee (Pfeiffer), a special education teacher, and Thomas Cruise Mapother III, an electrical engineer. His parents were both from Louisville, Kentucky, and he has German, Irish, and English ancestry. Young Tom spent his boyhood always on the move, and by the time he was 14 he had attended 15 different schools in the U.S. and Canada. He finally settled in Glen Ridge, New Jersey with his mother and her new husband. While in high school, Tom wanted to become a priest but pretty soon he developed an interest in acting and abandoned his plans of becoming a priest, dropped out of school, and at age 18 headed for New York and a possible acting career. The next 15 years of his life are the stuff of legends. He made his film debut with a small part in Endless Love (1981) and from the outset exhibited an undeniable box office appeal to both male and female audie\n",
    "\"\"\"\n",
    "doc = nlp(test_text)\n"
   ]
  },
  {
   "cell_type": "code",
   "execution_count": 114,
   "metadata": {},
   "outputs": [],
   "source": [
    "matcher = Matcher(nlp.vocab)\n",
    "\n",
    "parent_lexical1 = pattern = [\n",
    "    {'LOWER': 'son'},\n",
    "    {},\n",
    "    {'IS_TITLE': True}\n",
    "]\n",
    "\n",
    "matcher.add('parent_lexical1',None, parent_lexical1)\n",
    "\n",
    "parent_matched = matcher(doc)\n",
    "\n",
    "for match_id, start, end in parent_matched:\n",
    "    string_id = nlp.vocab.strings[match_id]  \n",
    "    span = doc[start:end]   \n",
    "    print(span)\n",
    "#     print(match_id, string_id, start, end, span.text)"
   ]
  },
  {
   "cell_type": "markdown",
   "metadata": {},
   "source": [
    "## try regex"
   ]
  },
  {
   "cell_type": "code",
   "execution_count": 128,
   "metadata": {},
   "outputs": [],
   "source": [
    "parent_text = \"\"\"\n",
    "Henry William Dalgliesh Cavill was born on the Bailiwick of Jersey, a British Crown dependency in the Channel Islands. His mother, Marianne (Dalgliesh), a housewife, was also born on Jersey, and is of Irish, Scottish and English ancestry. Henry's father, Colin Richard Cavill, a stockbroker, is of English origin (born in Chester, England). Henry is the second youngest son, with four brothers. He was privately educated at St. Michael's Preparatory School in Saint Saviour, Jersey before attending Stowe School in Buckinghamshire, England.\n",
    "\"\"\""
   ]
  },
  {
   "cell_type": "code",
   "execution_count": 4,
   "metadata": {},
   "outputs": [
    {
     "ename": "NameError",
     "evalue": "name 'parent_text' is not defined",
     "output_type": "error",
     "traceback": [
      "\u001b[0;31m---------------------------------------------------------------------------\u001b[0m",
      "\u001b[0;31mNameError\u001b[0m                                 Traceback (most recent call last)",
      "\u001b[0;32m<ipython-input-4-8b5b3d197d9d>\u001b[0m in \u001b[0;36m<module>\u001b[0;34m\u001b[0m\n\u001b[1;32m      7\u001b[0m \u001b[0mmother_pattern\u001b[0m \u001b[0;34m=\u001b[0m \u001b[0;34mr\"(?: [Mm]other.*?)([A-Z]\\w+ *[A-Z]*\\w* *[A-Z]*\\w*)|(?: [Ff]ather.*?)([A-Z]\\w+ *[A-Z]*\\w* *[A-Z]*\\w*)\"\u001b[0m\u001b[0;34m\u001b[0m\u001b[0;34m\u001b[0m\u001b[0m\n\u001b[1;32m      8\u001b[0m \u001b[0mfather_pattern\u001b[0m \u001b[0;34m=\u001b[0m \u001b[0;34mr\"(?: [Ff]ather.*?)([A-Z]\\w+ *[A-Z]*\\w* *[A-Z]*\\w*)\"\u001b[0m\u001b[0;34m\u001b[0m\u001b[0;34m\u001b[0m\u001b[0m\n\u001b[0;32m----> 9\u001b[0;31m \u001b[0mre\u001b[0m\u001b[0;34m.\u001b[0m\u001b[0mfindall\u001b[0m\u001b[0;34m(\u001b[0m\u001b[0mfather_pattern\u001b[0m\u001b[0;34m,\u001b[0m\u001b[0mparent_text\u001b[0m\u001b[0;34m)\u001b[0m\u001b[0;34m\u001b[0m\u001b[0;34m\u001b[0m\u001b[0m\n\u001b[0m",
      "\u001b[0;31mNameError\u001b[0m: name 'parent_text' is not defined"
     ]
    }
   ],
   "source": [
    "import re\n",
    "parent_pattern1 = r\"(?: son| daughter).*?of.*?([A-Z]\\w+ *[A-Z]*\\w* *[A-Z]*\\w*).*?([A-Z]\\w+ *[A-Z]*\\w* *[A-Z]*\\w*)\"\n",
    "# TODO: pattern 1 需要处理一个特殊情况： Alan Ritchson\n",
    "\n",
    "parent_pattern2 = r\"born.+?to ([A-Z a-z]+)\\b.+?and ([A-Z a-z]+)\\b\"\n",
    "\n",
    "mother_pattern = r\"(?: [Mm]other.*?)([A-Z]\\w+ *[A-Z]*\\w* *[A-Z]*\\w*)|(?: [Ff]ather.*?)([A-Z]\\w+ *[A-Z]*\\w* *[A-Z]*\\w*)\"\n",
    "father_pattern = r\"(?: [Ff]ather.*?)([A-Z]\\w+ *[A-Z]*\\w* *[A-Z]*\\w*)\"\n",
    "re.findall(father_pattern,parent_text)"
   ]
  },
  {
   "cell_type": "code",
   "execution_count": null,
   "metadata": {},
   "outputs": [],
   "source": []
  },
  {
   "cell_type": "markdown",
   "metadata": {},
   "source": [
    "education"
   ]
  },
  {
   "cell_type": "code",
   "execution_count": 5,
   "metadata": {},
   "outputs": [],
   "source": [
    "edu_text = \"\"\"\n",
    "sed in Springfield, Missouri. He is the son of Jane Etta (Hillhouse), a school counselor, and William Alvin Pitt, a truck company manager. He has a younger brother, Douglas (Doug) Pitt, and a younger sister, Julie Neal Pitt. At Kickapoo High School, Pitt was involved in sports, debating, student government and school musicals. Pitt attended the University of Missouri, where he majored in journalism with a focus on advertising. He occasionally acted in fraternity shows. He left college two credits short of graduating to move to California. Before he became successful at acting, Pitt supported himself by driving strippers in limos, moving refrigerators and dressing as a giant chicken while working for \"el Pollo Loco\".\n",
    "\"\"\""
   ]
  },
  {
   "cell_type": "code",
   "execution_count": 10,
   "metadata": {},
   "outputs": [
    {
     "data": {
      "text/plain": [
       "'Julie Neal Pitt. At Kickapoo High School'"
      ]
     },
     "execution_count": 10,
     "metadata": {},
     "output_type": "execute_result"
    }
   ],
   "source": [
    "education1 = r\"(?:[A-Z][^\\s]*\\s?)+ (School|College|University)\"\n",
    "match = re.search(education1,edu_text)\n",
    "match.group()"
   ]
  },
  {
   "cell_type": "markdown",
   "metadata": {},
   "source": [
    "作品"
   ]
  },
  {
   "cell_type": "code",
   "execution_count": 2,
   "metadata": {},
   "outputs": [],
   "source": [
    "import re"
   ]
  },
  {
   "cell_type": "code",
   "execution_count": 14,
   "metadata": {},
   "outputs": [
    {
     "data": {
      "text/plain": [
       "['Melanie Sloan',\n",
       " 'She made her professional acting debut at the age of eight in the off']"
      ]
     },
     "execution_count": 14,
     "metadata": {},
     "output_type": "execute_result"
    }
   ],
   "source": [
    "text = \"\"\"\n",
    "Scarlett Johansson was born in New York City. Her mother, Melanie Sloan, is from a Jewish family from the Bronx, and her father, Karsten Johansson, is a Danish-born architect, from Copenhagen. She has a sister, Vanessa Johansson, who is also an actress, a brother, Adrian, a twin brother, Hunter Johansson, born three minutes after her, and a paternal half-brother, Christian. Her grandfather was writer Ejner Johansson.\n",
    "\n",
    "Johansson began acting during childhood, after her mother started taking her to auditions. She made her professional acting debut at the age of eight in the off-Broadway production of \"Sophistry\" with Ethan Hawke, at New York's Play\n",
    "\"\"\"\n",
    "\n",
    "father_re_pattern = r\"(?: [Ff]ather.*?)([A-Z][\\w \\(\\)]+)\"\n",
    "mother_re_pattern = r\"(?: [Mm]other.*?)([A-Z][\\w \\(\\)]+)\"\n",
    "\n",
    "nonsence = r\"dioasfjadsjof\"\n",
    "for match in re.finditer(nonsence,text):\n",
    "    print(match.group(1))\n",
    "\n",
    "[match.group(1) for match in re.finditer(mother_re_pattern,text)]\n",
    "    "
   ]
  },
  {
   "cell_type": "code",
   "execution_count": 16,
   "metadata": {},
   "outputs": [
    {
     "name": "stdout",
     "output_type": "stream",
     "text": [
      "Clare Pattinson (née Charlton)\n"
     ]
    }
   ],
   "source": [
    "parent_robert = \"\"\"\n",
    "Robert Douglas Thomas Pattinson was born May 13, 1986 in London, England, to Richard Pattinson, a car dealer importing vintage cars, and Clare Pattinson (née Charlton), who worked as a booker at a model agency. He grew up in Barnes, southwest London with two older sisters. Robert discovered his love for music long before acting and started lear\n",
    "\"\"\"\n",
    "case2_re_pattern = r\"born.+?to ([A-Z][\\w \\(\\)]+)\\b.+?and ([A-Z][\\w \\(\\)]+)\"\n",
    "\n",
    "for match in re.finditer(case2_re_pattern,parent_robert):\n",
    "    print(match.group(2))\n"
   ]
  },
  {
   "cell_type": "code",
   "execution_count": 18,
   "metadata": {},
   "outputs": [
    {
     "name": "stdout",
     "output_type": "stream",
     "text": [
      "Mary Lee (Pfeiffer)\n"
     ]
    }
   ],
   "source": [
    "case3_re_pattern = r\"(?: son| daughter).*?of.*?([A-Z][\\w \\(\\)]+).*?([A-Z][\\w \\(\\)]+)\"\n",
    "\n",
    "text =\"\"\"\n",
    "Tom is the only son (among four children) of nomadic parents, Mary Lee (Pfeiffer), a special education teacher, and Thomas Cruise Mapother III, an electrical engineer. His parents were both from Louisville, Kentucky, and he has German, Irish, and English ancestry. Young Tom spent his boyhood always on the move, and by the time he was 14 he had attended 15 different schools in the U.S. and Canada. He finally settled in Glen Ridge, New Jersey with his mother and her new husba\n",
    "\"\"\"\n",
    "\n",
    "for match in re.finditer(case3_re_pattern,text):\n",
    "    print(match.group(1))"
   ]
  }
 ],
 "metadata": {
  "kernelspec": {
   "display_name": "Python 3",
   "language": "python",
   "name": "python3"
  },
  "language_info": {
   "codemirror_mode": {
    "name": "ipython",
    "version": 3
   },
   "file_extension": ".py",
   "mimetype": "text/x-python",
   "name": "python",
   "nbconvert_exporter": "python",
   "pygments_lexer": "ipython3",
   "version": "3.7.6"
  }
 },
 "nbformat": 4,
 "nbformat_minor": 4
}
