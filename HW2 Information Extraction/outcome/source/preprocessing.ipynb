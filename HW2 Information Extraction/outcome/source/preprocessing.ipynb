{
 "cells": [
  {
   "cell_type": "code",
   "execution_count": 5,
   "metadata": {},
   "outputs": [],
   "source": [
    "import sys, ujson\n",
    "jl_path = 'Ziheng_Gong_hw01_scrapy_cast.jl'"
   ]
  },
  {
   "cell_type": "code",
   "execution_count": 24,
   "metadata": {},
   "outputs": [],
   "source": [
    "f = open('Ziheng_Gong_hw01_scrapy_cast.jl','r')\n",
    "\n",
    "json_list = [ ujson.loads(line) for line in f.readlines()][:1000]\n",
    "\n",
    "f.close()"
   ]
  },
  {
   "cell_type": "code",
   "execution_count": 28,
   "metadata": {},
   "outputs": [],
   "source": [
    "export_list = list()\n",
    "for entry in json_list:\n",
    "    url = entry['url']\n",
    "    bio = entry['mini_bio']\n",
    "    export_list.append(url + '\\t' + bio)\n",
    "    \n",
    "with open('entities_bio.tsv','w') as w:\n",
    "    w.write('\\n'.join(export_list))"
   ]
  },
  {
   "cell_type": "code",
   "execution_count": null,
   "metadata": {},
   "outputs": [],
   "source": []
  }
 ],
 "metadata": {
  "kernelspec": {
   "display_name": "Python 3",
   "language": "python",
   "name": "python3"
  },
  "language_info": {
   "codemirror_mode": {
    "name": "ipython",
    "version": 3
   },
   "file_extension": ".py",
   "mimetype": "text/x-python",
   "name": "python",
   "nbconvert_exporter": "python",
   "pygments_lexer": "ipython3",
   "version": "3.7.6"
  }
 },
 "nbformat": 4,
 "nbformat_minor": 4
}
